{
 "cells": [
  {
   "cell_type": "code",
   "execution_count": 330,
   "id": "2ec3d94e",
   "metadata": {},
   "outputs": [],
   "source": [
    "import pandas as pd\n",
    "import seaborn as sns\n",
    "import matplotlib.pyplot as plt\n",
    "import numpy as np\n",
    "from sklearn import preprocessing\n",
    "from sklearn.tree import DecisionTreeClassifier\n",
    "from sklearn.metrics import confusion_matrix\n",
    "from sklearn.metrics import accuracy_score\n",
    "from sklearn.metrics import roc_curve, auc\n",
    "from IPython.display import Image  \n",
    "from sklearn.tree import export_graphviz\n",
    "from sklearn.ensemble import RandomForestClassifier \n",
    "from sklearn.model_selection import train_test_split, GridSearchCV\n",
    "from sklearn.metrics import recall_score,precision_score,accuracy_score\n",
    "from sklearn.linear_model import LogisticRegression\n",
    "import time"
   ]
  },
  {
   "cell_type": "code",
   "execution_count": 331,
   "id": "d6d97701",
   "metadata": {},
   "outputs": [],
   "source": [
    "mycab = pd.read_csv('C:\\DataScience-Learnbay\\DataScience-Learnbay\\Excel\\Projects\\MyCabs\\YourCabs_training.csv')"
   ]
  },
  {
   "cell_type": "code",
   "execution_count": 332,
   "id": "08d313ca",
   "metadata": {},
   "outputs": [
    {
     "data": {
      "text/html": [
       "<div>\n",
       "<style scoped>\n",
       "    .dataframe tbody tr th:only-of-type {\n",
       "        vertical-align: middle;\n",
       "    }\n",
       "\n",
       "    .dataframe tbody tr th {\n",
       "        vertical-align: top;\n",
       "    }\n",
       "\n",
       "    .dataframe thead th {\n",
       "        text-align: right;\n",
       "    }\n",
       "</style>\n",
       "<table border=\"1\" class=\"dataframe\">\n",
       "  <thead>\n",
       "    <tr style=\"text-align: right;\">\n",
       "      <th></th>\n",
       "      <th>id</th>\n",
       "      <th>user_id</th>\n",
       "      <th>vehicle_model_id</th>\n",
       "      <th>package_id</th>\n",
       "      <th>travel_type_id</th>\n",
       "      <th>from_area_id</th>\n",
       "      <th>to_area_id</th>\n",
       "      <th>from_city_id</th>\n",
       "      <th>to_city_id</th>\n",
       "      <th>from_date</th>\n",
       "      <th>to_date</th>\n",
       "      <th>online_booking</th>\n",
       "      <th>mobile_site_booking</th>\n",
       "      <th>booking_created</th>\n",
       "      <th>from_lat</th>\n",
       "      <th>from_long</th>\n",
       "      <th>to_lat</th>\n",
       "      <th>to_long</th>\n",
       "      <th>Car_Cancellation</th>\n",
       "      <th>Cost_of_error</th>\n",
       "    </tr>\n",
       "  </thead>\n",
       "  <tbody>\n",
       "    <tr>\n",
       "      <th>0</th>\n",
       "      <td>132512</td>\n",
       "      <td>22177</td>\n",
       "      <td>28</td>\n",
       "      <td>NaN</td>\n",
       "      <td>2</td>\n",
       "      <td>83.0</td>\n",
       "      <td>448.0</td>\n",
       "      <td>NaN</td>\n",
       "      <td>NaN</td>\n",
       "      <td>1/1/2013 2:00</td>\n",
       "      <td>NaN</td>\n",
       "      <td>0</td>\n",
       "      <td>0</td>\n",
       "      <td>1/1/2013 1:39</td>\n",
       "      <td>12.924150</td>\n",
       "      <td>77.672290</td>\n",
       "      <td>12.927320</td>\n",
       "      <td>77.635750</td>\n",
       "      <td>0</td>\n",
       "      <td>1.0</td>\n",
       "    </tr>\n",
       "    <tr>\n",
       "      <th>1</th>\n",
       "      <td>132513</td>\n",
       "      <td>21413</td>\n",
       "      <td>12</td>\n",
       "      <td>NaN</td>\n",
       "      <td>2</td>\n",
       "      <td>1010.0</td>\n",
       "      <td>540.0</td>\n",
       "      <td>NaN</td>\n",
       "      <td>NaN</td>\n",
       "      <td>1/1/2013 9:00</td>\n",
       "      <td>NaN</td>\n",
       "      <td>0</td>\n",
       "      <td>0</td>\n",
       "      <td>1/1/2013 2:25</td>\n",
       "      <td>12.966910</td>\n",
       "      <td>77.749350</td>\n",
       "      <td>12.927680</td>\n",
       "      <td>77.626640</td>\n",
       "      <td>0</td>\n",
       "      <td>1.0</td>\n",
       "    </tr>\n",
       "    <tr>\n",
       "      <th>2</th>\n",
       "      <td>132514</td>\n",
       "      <td>22178</td>\n",
       "      <td>12</td>\n",
       "      <td>NaN</td>\n",
       "      <td>2</td>\n",
       "      <td>1301.0</td>\n",
       "      <td>1034.0</td>\n",
       "      <td>NaN</td>\n",
       "      <td>NaN</td>\n",
       "      <td>1/1/2013 3:30</td>\n",
       "      <td>NaN</td>\n",
       "      <td>0</td>\n",
       "      <td>0</td>\n",
       "      <td>1/1/2013 3:08</td>\n",
       "      <td>12.937222</td>\n",
       "      <td>77.626915</td>\n",
       "      <td>13.047926</td>\n",
       "      <td>77.597766</td>\n",
       "      <td>0</td>\n",
       "      <td>1.0</td>\n",
       "    </tr>\n",
       "    <tr>\n",
       "      <th>3</th>\n",
       "      <td>132515</td>\n",
       "      <td>13034</td>\n",
       "      <td>12</td>\n",
       "      <td>NaN</td>\n",
       "      <td>2</td>\n",
       "      <td>768.0</td>\n",
       "      <td>398.0</td>\n",
       "      <td>NaN</td>\n",
       "      <td>NaN</td>\n",
       "      <td>1/1/2013 5:45</td>\n",
       "      <td>NaN</td>\n",
       "      <td>0</td>\n",
       "      <td>0</td>\n",
       "      <td>1/1/2013 4:39</td>\n",
       "      <td>12.989990</td>\n",
       "      <td>77.553320</td>\n",
       "      <td>12.971430</td>\n",
       "      <td>77.639140</td>\n",
       "      <td>0</td>\n",
       "      <td>1.0</td>\n",
       "    </tr>\n",
       "    <tr>\n",
       "      <th>4</th>\n",
       "      <td>132517</td>\n",
       "      <td>22180</td>\n",
       "      <td>12</td>\n",
       "      <td>NaN</td>\n",
       "      <td>2</td>\n",
       "      <td>1365.0</td>\n",
       "      <td>849.0</td>\n",
       "      <td>NaN</td>\n",
       "      <td>NaN</td>\n",
       "      <td>1/1/2013 9:00</td>\n",
       "      <td>NaN</td>\n",
       "      <td>0</td>\n",
       "      <td>0</td>\n",
       "      <td>1/1/2013 7:53</td>\n",
       "      <td>12.845653</td>\n",
       "      <td>77.677925</td>\n",
       "      <td>12.954340</td>\n",
       "      <td>77.600720</td>\n",
       "      <td>0</td>\n",
       "      <td>1.0</td>\n",
       "    </tr>\n",
       "  </tbody>\n",
       "</table>\n",
       "</div>"
      ],
      "text/plain": [
       "       id  user_id  vehicle_model_id  package_id  travel_type_id  \\\n",
       "0  132512    22177                28         NaN               2   \n",
       "1  132513    21413                12         NaN               2   \n",
       "2  132514    22178                12         NaN               2   \n",
       "3  132515    13034                12         NaN               2   \n",
       "4  132517    22180                12         NaN               2   \n",
       "\n",
       "   from_area_id  to_area_id  from_city_id  to_city_id      from_date  to_date  \\\n",
       "0          83.0       448.0           NaN         NaN  1/1/2013 2:00      NaN   \n",
       "1        1010.0       540.0           NaN         NaN  1/1/2013 9:00      NaN   \n",
       "2        1301.0      1034.0           NaN         NaN  1/1/2013 3:30      NaN   \n",
       "3         768.0       398.0           NaN         NaN  1/1/2013 5:45      NaN   \n",
       "4        1365.0       849.0           NaN         NaN  1/1/2013 9:00      NaN   \n",
       "\n",
       "   online_booking  mobile_site_booking booking_created   from_lat  from_long  \\\n",
       "0               0                    0   1/1/2013 1:39  12.924150  77.672290   \n",
       "1               0                    0   1/1/2013 2:25  12.966910  77.749350   \n",
       "2               0                    0   1/1/2013 3:08  12.937222  77.626915   \n",
       "3               0                    0   1/1/2013 4:39  12.989990  77.553320   \n",
       "4               0                    0   1/1/2013 7:53  12.845653  77.677925   \n",
       "\n",
       "      to_lat    to_long  Car_Cancellation  Cost_of_error  \n",
       "0  12.927320  77.635750                 0            1.0  \n",
       "1  12.927680  77.626640                 0            1.0  \n",
       "2  13.047926  77.597766                 0            1.0  \n",
       "3  12.971430  77.639140                 0            1.0  \n",
       "4  12.954340  77.600720                 0            1.0  "
      ]
     },
     "execution_count": 332,
     "metadata": {},
     "output_type": "execute_result"
    }
   ],
   "source": [
    "mycab.head()"
   ]
  },
  {
   "cell_type": "code",
   "execution_count": 333,
   "id": "ed75b7e7",
   "metadata": {},
   "outputs": [],
   "source": [
    "mycab = mycab.drop(columns=['id','user_id','package_id','from_city_id','to_city_id','to_date','Cost_of_error'])"
   ]
  },
  {
   "cell_type": "code",
   "execution_count": 334,
   "id": "2e21e520",
   "metadata": {},
   "outputs": [
    {
     "data": {
      "text/html": [
       "<div>\n",
       "<style scoped>\n",
       "    .dataframe tbody tr th:only-of-type {\n",
       "        vertical-align: middle;\n",
       "    }\n",
       "\n",
       "    .dataframe tbody tr th {\n",
       "        vertical-align: top;\n",
       "    }\n",
       "\n",
       "    .dataframe thead th {\n",
       "        text-align: right;\n",
       "    }\n",
       "</style>\n",
       "<table border=\"1\" class=\"dataframe\">\n",
       "  <thead>\n",
       "    <tr style=\"text-align: right;\">\n",
       "      <th></th>\n",
       "      <th>vehicle_model_id</th>\n",
       "      <th>travel_type_id</th>\n",
       "      <th>from_area_id</th>\n",
       "      <th>to_area_id</th>\n",
       "      <th>from_date</th>\n",
       "      <th>online_booking</th>\n",
       "      <th>mobile_site_booking</th>\n",
       "      <th>booking_created</th>\n",
       "      <th>from_lat</th>\n",
       "      <th>from_long</th>\n",
       "      <th>to_lat</th>\n",
       "      <th>to_long</th>\n",
       "      <th>Car_Cancellation</th>\n",
       "    </tr>\n",
       "  </thead>\n",
       "  <tbody>\n",
       "    <tr>\n",
       "      <th>0</th>\n",
       "      <td>28</td>\n",
       "      <td>2</td>\n",
       "      <td>83.0</td>\n",
       "      <td>448.0</td>\n",
       "      <td>1/1/2013 2:00</td>\n",
       "      <td>0</td>\n",
       "      <td>0</td>\n",
       "      <td>1/1/2013 1:39</td>\n",
       "      <td>12.924150</td>\n",
       "      <td>77.672290</td>\n",
       "      <td>12.927320</td>\n",
       "      <td>77.635750</td>\n",
       "      <td>0</td>\n",
       "    </tr>\n",
       "    <tr>\n",
       "      <th>1</th>\n",
       "      <td>12</td>\n",
       "      <td>2</td>\n",
       "      <td>1010.0</td>\n",
       "      <td>540.0</td>\n",
       "      <td>1/1/2013 9:00</td>\n",
       "      <td>0</td>\n",
       "      <td>0</td>\n",
       "      <td>1/1/2013 2:25</td>\n",
       "      <td>12.966910</td>\n",
       "      <td>77.749350</td>\n",
       "      <td>12.927680</td>\n",
       "      <td>77.626640</td>\n",
       "      <td>0</td>\n",
       "    </tr>\n",
       "    <tr>\n",
       "      <th>2</th>\n",
       "      <td>12</td>\n",
       "      <td>2</td>\n",
       "      <td>1301.0</td>\n",
       "      <td>1034.0</td>\n",
       "      <td>1/1/2013 3:30</td>\n",
       "      <td>0</td>\n",
       "      <td>0</td>\n",
       "      <td>1/1/2013 3:08</td>\n",
       "      <td>12.937222</td>\n",
       "      <td>77.626915</td>\n",
       "      <td>13.047926</td>\n",
       "      <td>77.597766</td>\n",
       "      <td>0</td>\n",
       "    </tr>\n",
       "    <tr>\n",
       "      <th>3</th>\n",
       "      <td>12</td>\n",
       "      <td>2</td>\n",
       "      <td>768.0</td>\n",
       "      <td>398.0</td>\n",
       "      <td>1/1/2013 5:45</td>\n",
       "      <td>0</td>\n",
       "      <td>0</td>\n",
       "      <td>1/1/2013 4:39</td>\n",
       "      <td>12.989990</td>\n",
       "      <td>77.553320</td>\n",
       "      <td>12.971430</td>\n",
       "      <td>77.639140</td>\n",
       "      <td>0</td>\n",
       "    </tr>\n",
       "    <tr>\n",
       "      <th>4</th>\n",
       "      <td>12</td>\n",
       "      <td>2</td>\n",
       "      <td>1365.0</td>\n",
       "      <td>849.0</td>\n",
       "      <td>1/1/2013 9:00</td>\n",
       "      <td>0</td>\n",
       "      <td>0</td>\n",
       "      <td>1/1/2013 7:53</td>\n",
       "      <td>12.845653</td>\n",
       "      <td>77.677925</td>\n",
       "      <td>12.954340</td>\n",
       "      <td>77.600720</td>\n",
       "      <td>0</td>\n",
       "    </tr>\n",
       "  </tbody>\n",
       "</table>\n",
       "</div>"
      ],
      "text/plain": [
       "   vehicle_model_id  travel_type_id  from_area_id  to_area_id      from_date  \\\n",
       "0                28               2          83.0       448.0  1/1/2013 2:00   \n",
       "1                12               2        1010.0       540.0  1/1/2013 9:00   \n",
       "2                12               2        1301.0      1034.0  1/1/2013 3:30   \n",
       "3                12               2         768.0       398.0  1/1/2013 5:45   \n",
       "4                12               2        1365.0       849.0  1/1/2013 9:00   \n",
       "\n",
       "   online_booking  mobile_site_booking booking_created   from_lat  from_long  \\\n",
       "0               0                    0   1/1/2013 1:39  12.924150  77.672290   \n",
       "1               0                    0   1/1/2013 2:25  12.966910  77.749350   \n",
       "2               0                    0   1/1/2013 3:08  12.937222  77.626915   \n",
       "3               0                    0   1/1/2013 4:39  12.989990  77.553320   \n",
       "4               0                    0   1/1/2013 7:53  12.845653  77.677925   \n",
       "\n",
       "      to_lat    to_long  Car_Cancellation  \n",
       "0  12.927320  77.635750                 0  \n",
       "1  12.927680  77.626640                 0  \n",
       "2  13.047926  77.597766                 0  \n",
       "3  12.971430  77.639140                 0  \n",
       "4  12.954340  77.600720                 0  "
      ]
     },
     "execution_count": 334,
     "metadata": {},
     "output_type": "execute_result"
    }
   ],
   "source": [
    "mycab.head()"
   ]
  },
  {
   "cell_type": "code",
   "execution_count": 335,
   "id": "786b4382",
   "metadata": {},
   "outputs": [
    {
     "data": {
      "text/plain": [
       "vehicle_model_id        0.000000\n",
       "travel_type_id          0.000000\n",
       "from_area_id            0.202620\n",
       "to_area_id             21.040271\n",
       "from_date               0.000000\n",
       "online_booking          0.000000\n",
       "mobile_site_booking     0.000000\n",
       "booking_created         0.000000\n",
       "from_lat                0.214133\n",
       "from_long               0.214133\n",
       "to_lat                 21.040271\n",
       "to_long                21.040271\n",
       "Car_Cancellation        0.000000\n",
       "dtype: float64"
      ]
     },
     "execution_count": 335,
     "metadata": {},
     "output_type": "execute_result"
    }
   ],
   "source": [
    "(mycab.isnull().sum()*100)/len(mycab)"
   ]
  },
  {
   "cell_type": "code",
   "execution_count": 336,
   "id": "8c7652fc",
   "metadata": {},
   "outputs": [
    {
     "data": {
      "text/plain": [
       "count    43343.000000\n",
       "mean       714.544494\n",
       "std        419.883553\n",
       "min          2.000000\n",
       "25%        393.000000\n",
       "50%        590.000000\n",
       "75%       1089.000000\n",
       "max       1403.000000\n",
       "Name: from_area_id, dtype: float64"
      ]
     },
     "execution_count": 336,
     "metadata": {},
     "output_type": "execute_result"
    }
   ],
   "source": [
    "mycab.from_area_id.describe()"
   ]
  },
  {
   "cell_type": "code",
   "execution_count": 337,
   "id": "ae11ca1e",
   "metadata": {
    "scrolled": true
   },
   "outputs": [
    {
     "data": {
      "text/plain": [
       "count    34293.000000\n",
       "mean       669.490917\n",
       "std        400.638225\n",
       "min          2.000000\n",
       "25%        393.000000\n",
       "50%        541.000000\n",
       "75%       1054.000000\n",
       "max       1403.000000\n",
       "Name: to_area_id, dtype: float64"
      ]
     },
     "execution_count": 337,
     "metadata": {},
     "output_type": "execute_result"
    }
   ],
   "source": [
    "mycab.to_area_id.describe()"
   ]
  },
  {
   "cell_type": "markdown",
   "id": "60ff127f",
   "metadata": {},
   "source": [
    "## EDA on missing data from area_id and lat/long"
   ]
  },
  {
   "cell_type": "code",
   "execution_count": 338,
   "id": "a13faac4",
   "metadata": {},
   "outputs": [
    {
     "data": {
      "text/plain": [
       "(9050, 13)"
      ]
     },
     "execution_count": 338,
     "metadata": {},
     "output_type": "execute_result"
    }
   ],
   "source": [
    "mycab.loc[(mycab['from_area_id'].isnull()==False) & (mycab['to_area_id'].isnull()==True),:].shape"
   ]
  },
  {
   "cell_type": "code",
   "execution_count": 339,
   "id": "602392a5",
   "metadata": {},
   "outputs": [],
   "source": [
    "# mycab.loc[(mycab['from_area_id'].isnull()==False) & (mycab['to_area_id'].isnull()==True),:]"
   ]
  },
  {
   "cell_type": "code",
   "execution_count": 340,
   "id": "a15ca4d0",
   "metadata": {},
   "outputs": [
    {
     "data": {
      "text/plain": [
       "(0, 13)"
      ]
     },
     "execution_count": 340,
     "metadata": {},
     "output_type": "execute_result"
    }
   ],
   "source": [
    "mycab.loc[(mycab['from_area_id'].isnull()==True) & (mycab['to_area_id'].isnull()==False),:].shape"
   ]
  },
  {
   "cell_type": "code",
   "execution_count": 341,
   "id": "4dd60a80",
   "metadata": {},
   "outputs": [
    {
     "data": {
      "text/plain": [
       "(43431, 13)"
      ]
     },
     "execution_count": 341,
     "metadata": {},
     "output_type": "execute_result"
    }
   ],
   "source": [
    "mycab.shape"
   ]
  },
  {
   "cell_type": "code",
   "execution_count": 342,
   "id": "2eb2790e",
   "metadata": {},
   "outputs": [
    {
     "data": {
      "text/plain": [
       "(88, 13)"
      ]
     },
     "execution_count": 342,
     "metadata": {},
     "output_type": "execute_result"
    }
   ],
   "source": [
    "mycab.loc[(mycab['from_area_id'].isnull()==True) & (mycab['to_area_id'].isnull()==True),:].shape"
   ]
  },
  {
   "cell_type": "code",
   "execution_count": 343,
   "id": "632667b2",
   "metadata": {},
   "outputs": [
    {
     "data": {
      "text/plain": [
       "(88, 13)"
      ]
     },
     "execution_count": 343,
     "metadata": {},
     "output_type": "execute_result"
    }
   ],
   "source": [
    "mycab.loc[(mycab['from_area_id'].isnull()==True) & (mycab['to_area_id'].isnull()==True) & (mycab['to_lat'].isnull()==True),:].shape"
   ]
  },
  {
   "cell_type": "code",
   "execution_count": 344,
   "id": "76303cde",
   "metadata": {},
   "outputs": [
    {
     "data": {
      "text/plain": [
       "(0, 13)"
      ]
     },
     "execution_count": 344,
     "metadata": {},
     "output_type": "execute_result"
    }
   ],
   "source": [
    "mycab.loc[(mycab['from_area_id'].isnull()==True) & (mycab['to_area_id'].isnull()==True) & (mycab['to_lat'].isnull()==False),:].shape"
   ]
  },
  {
   "cell_type": "code",
   "execution_count": 345,
   "id": "cfa10b22",
   "metadata": {},
   "outputs": [
    {
     "data": {
      "text/plain": [
       "(0, 13)"
      ]
     },
     "execution_count": 345,
     "metadata": {},
     "output_type": "execute_result"
    }
   ],
   "source": [
    "mycab.loc[(mycab['from_area_id'].isnull()==True) & (mycab['to_area_id'].isnull()==True) & (mycab['from_lat'].isnull()==False),:].shape"
   ]
  },
  {
   "cell_type": "markdown",
   "id": "8cf6adac",
   "metadata": {},
   "source": [
    "### Dropping recs from dataframe where both from_area_id and to_area_id are null"
   ]
  },
  {
   "cell_type": "code",
   "execution_count": 346,
   "id": "51c697b4",
   "metadata": {},
   "outputs": [],
   "source": [
    "idx=mycab.loc[(mycab['from_area_id'].isnull()==True) & (mycab['to_area_id'].isnull()==True),:].index\n",
    "mycab.drop(idx,inplace=True)"
   ]
  },
  {
   "cell_type": "code",
   "execution_count": 347,
   "id": "c37cf913",
   "metadata": {},
   "outputs": [
    {
     "data": {
      "text/plain": [
       "vehicle_model_id        0.000000\n",
       "travel_type_id          0.000000\n",
       "from_area_id            0.000000\n",
       "to_area_id             20.879958\n",
       "from_date               0.000000\n",
       "online_booking          0.000000\n",
       "mobile_site_booking     0.000000\n",
       "booking_created         0.000000\n",
       "from_lat                0.011536\n",
       "from_long               0.011536\n",
       "to_lat                 20.879958\n",
       "to_long                20.879958\n",
       "Car_Cancellation        0.000000\n",
       "dtype: float64"
      ]
     },
     "execution_count": 347,
     "metadata": {},
     "output_type": "execute_result"
    }
   ],
   "source": [
    "(mycab.isnull().sum()*100)/len(mycab)"
   ]
  },
  {
   "cell_type": "markdown",
   "id": "bc5f49d0",
   "metadata": {},
   "source": [
    "## Check where travel is not p2p and to_area_id is null"
   ]
  },
  {
   "cell_type": "code",
   "execution_count": 348,
   "id": "7f9612a5",
   "metadata": {},
   "outputs": [
    {
     "data": {
      "text/plain": [
       "array([2, 1, 3], dtype=int64)"
      ]
     },
     "execution_count": 348,
     "metadata": {},
     "output_type": "execute_result"
    }
   ],
   "source": [
    "mycab['travel_type_id'].unique()"
   ]
  },
  {
   "cell_type": "code",
   "execution_count": 349,
   "id": "47a408d8",
   "metadata": {},
   "outputs": [
    {
     "data": {
      "text/plain": [
       "(9050, 13)"
      ]
     },
     "execution_count": 349,
     "metadata": {},
     "output_type": "execute_result"
    }
   ],
   "source": [
    "mycab.loc[(mycab['travel_type_id']!=2) & (mycab['to_area_id'].isnull()==True),:].shape"
   ]
  },
  {
   "cell_type": "markdown",
   "id": "809e6de4",
   "metadata": {},
   "source": [
    "### Impute to_area_id to 9999 when travel_type_id is not p2p and to_area_id is null"
   ]
  },
  {
   "cell_type": "code",
   "execution_count": 350,
   "id": "6c4d8461",
   "metadata": {},
   "outputs": [],
   "source": [
    "# mycab['to_area_id'].fillna()"
   ]
  },
  {
   "cell_type": "code",
   "execution_count": 351,
   "id": "bc210a49",
   "metadata": {},
   "outputs": [],
   "source": [
    "mycab['to_area_id'] = np.where((mycab['travel_type_id']!=2) & (mycab['to_area_id'].isnull()==True), 9999, mycab.to_area_id) "
   ]
  },
  {
   "cell_type": "code",
   "execution_count": 352,
   "id": "e2519237",
   "metadata": {},
   "outputs": [
    {
     "data": {
      "text/plain": [
       "(0, 13)"
      ]
     },
     "execution_count": 352,
     "metadata": {},
     "output_type": "execute_result"
    }
   ],
   "source": [
    "mycab.loc[(mycab['travel_type_id']!=2) & (mycab['to_area_id'].isnull()==True),:].shape"
   ]
  },
  {
   "cell_type": "markdown",
   "id": "2b3a0e13",
   "metadata": {},
   "source": [
    "## Check where travel is p2p and to_area_id is null"
   ]
  },
  {
   "cell_type": "code",
   "execution_count": 353,
   "id": "de58e016",
   "metadata": {},
   "outputs": [
    {
     "data": {
      "text/plain": [
       "(0, 13)"
      ]
     },
     "execution_count": 353,
     "metadata": {},
     "output_type": "execute_result"
    }
   ],
   "source": [
    "mycab.loc[(mycab['travel_type_id']==2) & (mycab['to_area_id'].isnull()==True),:].shape"
   ]
  },
  {
   "cell_type": "code",
   "execution_count": 354,
   "id": "342f792d",
   "metadata": {},
   "outputs": [
    {
     "data": {
      "text/plain": [
       "vehicle_model_id          0\n",
       "travel_type_id            0\n",
       "from_area_id              0\n",
       "to_area_id                0\n",
       "from_date                 0\n",
       "online_booking            0\n",
       "mobile_site_booking       0\n",
       "booking_created           0\n",
       "from_lat                  5\n",
       "from_long                 5\n",
       "to_lat                 9050\n",
       "to_long                9050\n",
       "Car_Cancellation          0\n",
       "dtype: int64"
      ]
     },
     "execution_count": 354,
     "metadata": {},
     "output_type": "execute_result"
    }
   ],
   "source": [
    "mycab.isnull().sum()"
   ]
  },
  {
   "cell_type": "code",
   "execution_count": null,
   "id": "95d48e5a",
   "metadata": {},
   "outputs": [],
   "source": []
  },
  {
   "cell_type": "code",
   "execution_count": null,
   "id": "6c651d77",
   "metadata": {},
   "outputs": [],
   "source": []
  },
  {
   "cell_type": "code",
   "execution_count": null,
   "id": "e6e4beae",
   "metadata": {},
   "outputs": [],
   "source": []
  },
  {
   "cell_type": "code",
   "execution_count": null,
   "id": "e651f1c3",
   "metadata": {},
   "outputs": [],
   "source": []
  },
  {
   "cell_type": "markdown",
   "id": "80a8b4af",
   "metadata": {},
   "source": [
    "## Dropping latitude and longitude columns"
   ]
  },
  {
   "cell_type": "code",
   "execution_count": 355,
   "id": "3d51f637",
   "metadata": {},
   "outputs": [
    {
     "data": {
      "text/html": [
       "<div>\n",
       "<style scoped>\n",
       "    .dataframe tbody tr th:only-of-type {\n",
       "        vertical-align: middle;\n",
       "    }\n",
       "\n",
       "    .dataframe tbody tr th {\n",
       "        vertical-align: top;\n",
       "    }\n",
       "\n",
       "    .dataframe thead th {\n",
       "        text-align: right;\n",
       "    }\n",
       "</style>\n",
       "<table border=\"1\" class=\"dataframe\">\n",
       "  <thead>\n",
       "    <tr style=\"text-align: right;\">\n",
       "      <th></th>\n",
       "      <th>vehicle_model_id</th>\n",
       "      <th>travel_type_id</th>\n",
       "      <th>from_area_id</th>\n",
       "      <th>to_area_id</th>\n",
       "      <th>from_date</th>\n",
       "      <th>online_booking</th>\n",
       "      <th>mobile_site_booking</th>\n",
       "      <th>booking_created</th>\n",
       "      <th>Car_Cancellation</th>\n",
       "    </tr>\n",
       "  </thead>\n",
       "  <tbody>\n",
       "    <tr>\n",
       "      <th>0</th>\n",
       "      <td>28</td>\n",
       "      <td>2</td>\n",
       "      <td>83.0</td>\n",
       "      <td>448.0</td>\n",
       "      <td>1/1/2013 2:00</td>\n",
       "      <td>0</td>\n",
       "      <td>0</td>\n",
       "      <td>1/1/2013 1:39</td>\n",
       "      <td>0</td>\n",
       "    </tr>\n",
       "    <tr>\n",
       "      <th>1</th>\n",
       "      <td>12</td>\n",
       "      <td>2</td>\n",
       "      <td>1010.0</td>\n",
       "      <td>540.0</td>\n",
       "      <td>1/1/2013 9:00</td>\n",
       "      <td>0</td>\n",
       "      <td>0</td>\n",
       "      <td>1/1/2013 2:25</td>\n",
       "      <td>0</td>\n",
       "    </tr>\n",
       "    <tr>\n",
       "      <th>2</th>\n",
       "      <td>12</td>\n",
       "      <td>2</td>\n",
       "      <td>1301.0</td>\n",
       "      <td>1034.0</td>\n",
       "      <td>1/1/2013 3:30</td>\n",
       "      <td>0</td>\n",
       "      <td>0</td>\n",
       "      <td>1/1/2013 3:08</td>\n",
       "      <td>0</td>\n",
       "    </tr>\n",
       "    <tr>\n",
       "      <th>3</th>\n",
       "      <td>12</td>\n",
       "      <td>2</td>\n",
       "      <td>768.0</td>\n",
       "      <td>398.0</td>\n",
       "      <td>1/1/2013 5:45</td>\n",
       "      <td>0</td>\n",
       "      <td>0</td>\n",
       "      <td>1/1/2013 4:39</td>\n",
       "      <td>0</td>\n",
       "    </tr>\n",
       "    <tr>\n",
       "      <th>4</th>\n",
       "      <td>12</td>\n",
       "      <td>2</td>\n",
       "      <td>1365.0</td>\n",
       "      <td>849.0</td>\n",
       "      <td>1/1/2013 9:00</td>\n",
       "      <td>0</td>\n",
       "      <td>0</td>\n",
       "      <td>1/1/2013 7:53</td>\n",
       "      <td>0</td>\n",
       "    </tr>\n",
       "  </tbody>\n",
       "</table>\n",
       "</div>"
      ],
      "text/plain": [
       "   vehicle_model_id  travel_type_id  from_area_id  to_area_id      from_date  \\\n",
       "0                28               2          83.0       448.0  1/1/2013 2:00   \n",
       "1                12               2        1010.0       540.0  1/1/2013 9:00   \n",
       "2                12               2        1301.0      1034.0  1/1/2013 3:30   \n",
       "3                12               2         768.0       398.0  1/1/2013 5:45   \n",
       "4                12               2        1365.0       849.0  1/1/2013 9:00   \n",
       "\n",
       "   online_booking  mobile_site_booking booking_created  Car_Cancellation  \n",
       "0               0                    0   1/1/2013 1:39                 0  \n",
       "1               0                    0   1/1/2013 2:25                 0  \n",
       "2               0                    0   1/1/2013 3:08                 0  \n",
       "3               0                    0   1/1/2013 4:39                 0  \n",
       "4               0                    0   1/1/2013 7:53                 0  "
      ]
     },
     "execution_count": 355,
     "metadata": {},
     "output_type": "execute_result"
    }
   ],
   "source": [
    "mycab_final = mycab.drop(columns=['from_lat','from_long','to_lat','to_long'])\n",
    "mycab_final.head()"
   ]
  },
  {
   "cell_type": "markdown",
   "id": "4ed540f4",
   "metadata": {},
   "source": [
    "## Manipulating Date and Time "
   ]
  },
  {
   "cell_type": "code",
   "execution_count": 356,
   "id": "7958d60c",
   "metadata": {},
   "outputs": [],
   "source": [
    "def timeofday(from_date):\n",
    "    if(from_date.time() >= pd.to_datetime('05:00:00').time() and from_date.time() <= pd.to_datetime('12:00:00').time()):\n",
    "        return 'Morning'\n",
    "    elif(from_date.time() > pd.to_datetime('12:00:00').time() and from_date.time() <= pd.to_datetime('16:30:00').time()):\n",
    "        return 'Noon'\n",
    "    elif(from_date.time() > pd.to_datetime('16:30:00').time() and from_date.time() <= pd.to_datetime('19:30:00').time()):\n",
    "        return 'Evening'\n",
    "    elif(from_date.time() > pd.to_datetime('19:30:00').time() and from_date.time() <= pd.to_datetime('23:00:00').time()):\n",
    "        return 'Night'\n",
    "    else:\n",
    "        return 'Mid_Night'"
   ]
  },
  {
   "cell_type": "code",
   "execution_count": 357,
   "id": "7c09eb03",
   "metadata": {},
   "outputs": [],
   "source": [
    "mycab_final['from_date'] = pd.to_datetime(mycab_final['from_date'])\n",
    "mycab_final['booking_created'] = pd.to_datetime(mycab_final['booking_created'])"
   ]
  },
  {
   "cell_type": "code",
   "execution_count": 358,
   "id": "44db57eb",
   "metadata": {},
   "outputs": [],
   "source": [
    "mycab_final['from_dt_time_of_day']=mycab_final['from_date'].apply(lambda x:timeofday(x))"
   ]
  },
  {
   "cell_type": "code",
   "execution_count": 359,
   "id": "6a57ceb0",
   "metadata": {},
   "outputs": [],
   "source": [
    "mycab_final['booking_dt_time_of_day']=mycab_final['booking_created'].apply(lambda x:timeofday(x))"
   ]
  },
  {
   "cell_type": "code",
   "execution_count": 360,
   "id": "18223cf6",
   "metadata": {},
   "outputs": [
    {
     "data": {
      "text/html": [
       "<div>\n",
       "<style scoped>\n",
       "    .dataframe tbody tr th:only-of-type {\n",
       "        vertical-align: middle;\n",
       "    }\n",
       "\n",
       "    .dataframe tbody tr th {\n",
       "        vertical-align: top;\n",
       "    }\n",
       "\n",
       "    .dataframe thead th {\n",
       "        text-align: right;\n",
       "    }\n",
       "</style>\n",
       "<table border=\"1\" class=\"dataframe\">\n",
       "  <thead>\n",
       "    <tr style=\"text-align: right;\">\n",
       "      <th></th>\n",
       "      <th>vehicle_model_id</th>\n",
       "      <th>travel_type_id</th>\n",
       "      <th>from_area_id</th>\n",
       "      <th>to_area_id</th>\n",
       "      <th>from_date</th>\n",
       "      <th>online_booking</th>\n",
       "      <th>mobile_site_booking</th>\n",
       "      <th>booking_created</th>\n",
       "      <th>Car_Cancellation</th>\n",
       "      <th>from_dt_time_of_day</th>\n",
       "      <th>booking_dt_time_of_day</th>\n",
       "    </tr>\n",
       "  </thead>\n",
       "  <tbody>\n",
       "    <tr>\n",
       "      <th>0</th>\n",
       "      <td>28</td>\n",
       "      <td>2</td>\n",
       "      <td>83.0</td>\n",
       "      <td>448.0</td>\n",
       "      <td>2013-01-01 02:00:00</td>\n",
       "      <td>0</td>\n",
       "      <td>0</td>\n",
       "      <td>2013-01-01 01:39:00</td>\n",
       "      <td>0</td>\n",
       "      <td>Mid_Night</td>\n",
       "      <td>Mid_Night</td>\n",
       "    </tr>\n",
       "    <tr>\n",
       "      <th>1</th>\n",
       "      <td>12</td>\n",
       "      <td>2</td>\n",
       "      <td>1010.0</td>\n",
       "      <td>540.0</td>\n",
       "      <td>2013-01-01 09:00:00</td>\n",
       "      <td>0</td>\n",
       "      <td>0</td>\n",
       "      <td>2013-01-01 02:25:00</td>\n",
       "      <td>0</td>\n",
       "      <td>Morning</td>\n",
       "      <td>Mid_Night</td>\n",
       "    </tr>\n",
       "  </tbody>\n",
       "</table>\n",
       "</div>"
      ],
      "text/plain": [
       "   vehicle_model_id  travel_type_id  from_area_id  to_area_id  \\\n",
       "0                28               2          83.0       448.0   \n",
       "1                12               2        1010.0       540.0   \n",
       "\n",
       "            from_date  online_booking  mobile_site_booking  \\\n",
       "0 2013-01-01 02:00:00               0                    0   \n",
       "1 2013-01-01 09:00:00               0                    0   \n",
       "\n",
       "      booking_created  Car_Cancellation from_dt_time_of_day  \\\n",
       "0 2013-01-01 01:39:00                 0           Mid_Night   \n",
       "1 2013-01-01 02:25:00                 0             Morning   \n",
       "\n",
       "  booking_dt_time_of_day  \n",
       "0              Mid_Night  \n",
       "1              Mid_Night  "
      ]
     },
     "execution_count": 360,
     "metadata": {},
     "output_type": "execute_result"
    }
   ],
   "source": [
    "mycab_final.head(2)"
   ]
  },
  {
   "cell_type": "code",
   "execution_count": null,
   "id": "02c75b80",
   "metadata": {},
   "outputs": [],
   "source": []
  },
  {
   "cell_type": "code",
   "execution_count": 361,
   "id": "615b548c",
   "metadata": {},
   "outputs": [],
   "source": [
    "mycab_final['booking_created_day_of_week']=mycab_final['booking_created'].apply(lambda x:x.day_name())\n",
    "mycab_final['from_date_day_of_week']=mycab_final['from_date'].apply(lambda x:x.day_name())"
   ]
  },
  {
   "cell_type": "code",
   "execution_count": 362,
   "id": "d12bb984",
   "metadata": {},
   "outputs": [
    {
     "data": {
      "text/html": [
       "<div>\n",
       "<style scoped>\n",
       "    .dataframe tbody tr th:only-of-type {\n",
       "        vertical-align: middle;\n",
       "    }\n",
       "\n",
       "    .dataframe tbody tr th {\n",
       "        vertical-align: top;\n",
       "    }\n",
       "\n",
       "    .dataframe thead th {\n",
       "        text-align: right;\n",
       "    }\n",
       "</style>\n",
       "<table border=\"1\" class=\"dataframe\">\n",
       "  <thead>\n",
       "    <tr style=\"text-align: right;\">\n",
       "      <th></th>\n",
       "      <th>vehicle_model_id</th>\n",
       "      <th>travel_type_id</th>\n",
       "      <th>from_area_id</th>\n",
       "      <th>to_area_id</th>\n",
       "      <th>from_date</th>\n",
       "      <th>online_booking</th>\n",
       "      <th>mobile_site_booking</th>\n",
       "      <th>booking_created</th>\n",
       "      <th>Car_Cancellation</th>\n",
       "      <th>from_dt_time_of_day</th>\n",
       "      <th>booking_dt_time_of_day</th>\n",
       "      <th>booking_created_day_of_week</th>\n",
       "      <th>from_date_day_of_week</th>\n",
       "    </tr>\n",
       "  </thead>\n",
       "  <tbody>\n",
       "    <tr>\n",
       "      <th>0</th>\n",
       "      <td>28</td>\n",
       "      <td>2</td>\n",
       "      <td>83.0</td>\n",
       "      <td>448.0</td>\n",
       "      <td>2013-01-01 02:00:00</td>\n",
       "      <td>0</td>\n",
       "      <td>0</td>\n",
       "      <td>2013-01-01 01:39:00</td>\n",
       "      <td>0</td>\n",
       "      <td>Mid_Night</td>\n",
       "      <td>Mid_Night</td>\n",
       "      <td>Tuesday</td>\n",
       "      <td>Tuesday</td>\n",
       "    </tr>\n",
       "    <tr>\n",
       "      <th>1</th>\n",
       "      <td>12</td>\n",
       "      <td>2</td>\n",
       "      <td>1010.0</td>\n",
       "      <td>540.0</td>\n",
       "      <td>2013-01-01 09:00:00</td>\n",
       "      <td>0</td>\n",
       "      <td>0</td>\n",
       "      <td>2013-01-01 02:25:00</td>\n",
       "      <td>0</td>\n",
       "      <td>Morning</td>\n",
       "      <td>Mid_Night</td>\n",
       "      <td>Tuesday</td>\n",
       "      <td>Tuesday</td>\n",
       "    </tr>\n",
       "    <tr>\n",
       "      <th>2</th>\n",
       "      <td>12</td>\n",
       "      <td>2</td>\n",
       "      <td>1301.0</td>\n",
       "      <td>1034.0</td>\n",
       "      <td>2013-01-01 03:30:00</td>\n",
       "      <td>0</td>\n",
       "      <td>0</td>\n",
       "      <td>2013-01-01 03:08:00</td>\n",
       "      <td>0</td>\n",
       "      <td>Mid_Night</td>\n",
       "      <td>Mid_Night</td>\n",
       "      <td>Tuesday</td>\n",
       "      <td>Tuesday</td>\n",
       "    </tr>\n",
       "    <tr>\n",
       "      <th>3</th>\n",
       "      <td>12</td>\n",
       "      <td>2</td>\n",
       "      <td>768.0</td>\n",
       "      <td>398.0</td>\n",
       "      <td>2013-01-01 05:45:00</td>\n",
       "      <td>0</td>\n",
       "      <td>0</td>\n",
       "      <td>2013-01-01 04:39:00</td>\n",
       "      <td>0</td>\n",
       "      <td>Morning</td>\n",
       "      <td>Mid_Night</td>\n",
       "      <td>Tuesday</td>\n",
       "      <td>Tuesday</td>\n",
       "    </tr>\n",
       "    <tr>\n",
       "      <th>4</th>\n",
       "      <td>12</td>\n",
       "      <td>2</td>\n",
       "      <td>1365.0</td>\n",
       "      <td>849.0</td>\n",
       "      <td>2013-01-01 09:00:00</td>\n",
       "      <td>0</td>\n",
       "      <td>0</td>\n",
       "      <td>2013-01-01 07:53:00</td>\n",
       "      <td>0</td>\n",
       "      <td>Morning</td>\n",
       "      <td>Morning</td>\n",
       "      <td>Tuesday</td>\n",
       "      <td>Tuesday</td>\n",
       "    </tr>\n",
       "  </tbody>\n",
       "</table>\n",
       "</div>"
      ],
      "text/plain": [
       "   vehicle_model_id  travel_type_id  from_area_id  to_area_id  \\\n",
       "0                28               2          83.0       448.0   \n",
       "1                12               2        1010.0       540.0   \n",
       "2                12               2        1301.0      1034.0   \n",
       "3                12               2         768.0       398.0   \n",
       "4                12               2        1365.0       849.0   \n",
       "\n",
       "            from_date  online_booking  mobile_site_booking  \\\n",
       "0 2013-01-01 02:00:00               0                    0   \n",
       "1 2013-01-01 09:00:00               0                    0   \n",
       "2 2013-01-01 03:30:00               0                    0   \n",
       "3 2013-01-01 05:45:00               0                    0   \n",
       "4 2013-01-01 09:00:00               0                    0   \n",
       "\n",
       "      booking_created  Car_Cancellation from_dt_time_of_day  \\\n",
       "0 2013-01-01 01:39:00                 0           Mid_Night   \n",
       "1 2013-01-01 02:25:00                 0             Morning   \n",
       "2 2013-01-01 03:08:00                 0           Mid_Night   \n",
       "3 2013-01-01 04:39:00                 0             Morning   \n",
       "4 2013-01-01 07:53:00                 0             Morning   \n",
       "\n",
       "  booking_dt_time_of_day booking_created_day_of_week from_date_day_of_week  \n",
       "0              Mid_Night                     Tuesday               Tuesday  \n",
       "1              Mid_Night                     Tuesday               Tuesday  \n",
       "2              Mid_Night                     Tuesday               Tuesday  \n",
       "3              Mid_Night                     Tuesday               Tuesday  \n",
       "4                Morning                     Tuesday               Tuesday  "
      ]
     },
     "execution_count": 362,
     "metadata": {},
     "output_type": "execute_result"
    }
   ],
   "source": [
    "mycab_final.head()"
   ]
  },
  {
   "cell_type": "code",
   "execution_count": 363,
   "id": "f8e7424b",
   "metadata": {},
   "outputs": [],
   "source": [
    "def typeofday(from_date):\n",
    "        if(from_date.weekday()>=5):\n",
    "            return 'Weekend'\n",
    "        else:\n",
    "            return 'Weekday'\n",
    "        \n",
    "        \n",
    "def dayofmonth(from_date):\n",
    "        return from_date.day\n",
    "        \n",
    "def monthnumber(from_date):\n",
    "    return from_date.month\n",
    "    \n",
    "def yearnumber(from_date):\n",
    "    return from_date.year"
   ]
  },
  {
   "cell_type": "code",
   "execution_count": 364,
   "id": "a8f4558f",
   "metadata": {},
   "outputs": [],
   "source": [
    "mycab_final['type_of_day_booking_dt']=mycab_final['booking_created'].apply(lambda x:typeofday(x))\n",
    "mycab_final['type_of_day_from_dt']=mycab_final['from_date'].apply(lambda x:typeofday(x))\n",
    "\n",
    "mycab_final['day_of_month_booking_dt']=mycab_final['booking_created'].apply(lambda x:dayofmonth(x))\n",
    "mycab_final['day_of_month_from_dt']=mycab_final['from_date'].apply(lambda x:dayofmonth(x))\n",
    "\n",
    "mycab_final['month_number_booking_dt']=mycab_final['booking_created'].apply(lambda x:monthnumber(x))\n",
    "mycab_final['month_number_from_dt']=mycab_final['from_date'].apply(lambda x:monthnumber(x))\n"
   ]
  },
  {
   "cell_type": "code",
   "execution_count": 365,
   "id": "a1316a4b",
   "metadata": {},
   "outputs": [
    {
     "data": {
      "text/plain": [
       "1"
      ]
     },
     "execution_count": 365,
     "metadata": {},
     "output_type": "execute_result"
    }
   ],
   "source": [
    "mycab_final['booking_created'][0].day"
   ]
  },
  {
   "cell_type": "code",
   "execution_count": 366,
   "id": "646d0a9b",
   "metadata": {},
   "outputs": [
    {
     "data": {
      "text/plain": [
       "1"
      ]
     },
     "execution_count": 366,
     "metadata": {},
     "output_type": "execute_result"
    }
   ],
   "source": [
    "mycab_final['booking_created'][0].month"
   ]
  },
  {
   "cell_type": "code",
   "execution_count": 367,
   "id": "594425c4",
   "metadata": {},
   "outputs": [
    {
     "data": {
      "text/plain": [
       "2013"
      ]
     },
     "execution_count": 367,
     "metadata": {},
     "output_type": "execute_result"
    }
   ],
   "source": [
    "mycab_final['booking_created'][0].year"
   ]
  },
  {
   "cell_type": "code",
   "execution_count": 368,
   "id": "773f055b",
   "metadata": {},
   "outputs": [],
   "source": [
    "# mycab_final['year_number_from_dt'].value_counts()"
   ]
  },
  {
   "cell_type": "code",
   "execution_count": 369,
   "id": "9e4b563d",
   "metadata": {},
   "outputs": [],
   "source": [
    "# mycab_final['year_number_booking_dt'].value_counts()"
   ]
  },
  {
   "cell_type": "code",
   "execution_count": 370,
   "id": "75713132",
   "metadata": {},
   "outputs": [
    {
     "data": {
      "text/plain": [
       "8     5618\n",
       "7     4911\n",
       "10    4910\n",
       "9     4769\n",
       "6     4408\n",
       "5     4306\n",
       "4     3145\n",
       "1     2937\n",
       "2     2871\n",
       "3     2817\n",
       "11    2651\n",
       "Name: month_number_booking_dt, dtype: int64"
      ]
     },
     "execution_count": 370,
     "metadata": {},
     "output_type": "execute_result"
    }
   ],
   "source": [
    "mycab_final['month_number_booking_dt'].value_counts()"
   ]
  },
  {
   "cell_type": "code",
   "execution_count": 371,
   "id": "296706d2",
   "metadata": {},
   "outputs": [
    {
     "data": {
      "text/plain": [
       "8     5436\n",
       "7     4893\n",
       "10    4800\n",
       "9     4727\n",
       "6     4380\n",
       "5     4290\n",
       "11    3166\n",
       "4     3109\n",
       "2     2887\n",
       "1     2851\n",
       "3     2785\n",
       "12      19\n",
       "Name: month_number_from_dt, dtype: int64"
      ]
     },
     "execution_count": 371,
     "metadata": {},
     "output_type": "execute_result"
    }
   ],
   "source": [
    "mycab_final['month_number_from_dt'].value_counts()"
   ]
  },
  {
   "cell_type": "code",
   "execution_count": 372,
   "id": "df1afe7d",
   "metadata": {},
   "outputs": [
    {
     "data": {
      "text/plain": [
       "1     0.037261\n",
       "30    0.036430\n",
       "6     0.035969\n",
       "12    0.034861\n",
       "14    0.034400\n",
       "10    0.033962\n",
       "9     0.033939\n",
       "11    0.033685\n",
       "20    0.033500\n",
       "13    0.033154\n",
       "2     0.032923\n",
       "19    0.032577\n",
       "22    0.032577\n",
       "15    0.032324\n",
       "7     0.032254\n",
       "3     0.031793\n",
       "8     0.031724\n",
       "4     0.031724\n",
       "18    0.031539\n",
       "27    0.031331\n",
       "17    0.031331\n",
       "21    0.031262\n",
       "5     0.031147\n",
       "31    0.031101\n",
       "23    0.031101\n",
       "25    0.030916\n",
       "28    0.030570\n",
       "16    0.030524\n",
       "24    0.028378\n",
       "26    0.028148\n",
       "29    0.027594\n",
       "Name: day_of_month_booking_dt, dtype: float64"
      ]
     },
     "execution_count": 372,
     "metadata": {},
     "output_type": "execute_result"
    }
   ],
   "source": [
    "mycab_final['day_of_month_booking_dt'].value_counts(normalize=True)"
   ]
  },
  {
   "cell_type": "code",
   "execution_count": 373,
   "id": "58a93ca0",
   "metadata": {},
   "outputs": [
    {
     "data": {
      "text/plain": [
       "12    0.035807\n",
       "10    0.035323\n",
       "11    0.035069\n",
       "1     0.035046\n",
       "14    0.034723\n",
       "9     0.034331\n",
       "20    0.034215\n",
       "13    0.034192\n",
       "19    0.033454\n",
       "21    0.033039\n",
       "15    0.032993\n",
       "7     0.032923\n",
       "23    0.032877\n",
       "3     0.032831\n",
       "2     0.032716\n",
       "6     0.032623\n",
       "17    0.032531\n",
       "8     0.032439\n",
       "26    0.032324\n",
       "24    0.032139\n",
       "22    0.032001\n",
       "16    0.031862\n",
       "4     0.031285\n",
       "5     0.031055\n",
       "18    0.031032\n",
       "25    0.030524\n",
       "28    0.030293\n",
       "30    0.029878\n",
       "27    0.029209\n",
       "29    0.027663\n",
       "31    0.023602\n",
       "Name: day_of_month_from_dt, dtype: float64"
      ]
     },
     "execution_count": 373,
     "metadata": {},
     "output_type": "execute_result"
    }
   ],
   "source": [
    "mycab_final['day_of_month_from_dt'].value_counts(normalize=True)"
   ]
  },
  {
   "cell_type": "code",
   "execution_count": null,
   "id": "f03c8358",
   "metadata": {},
   "outputs": [],
   "source": []
  },
  {
   "cell_type": "code",
   "execution_count": 374,
   "id": "5410a676",
   "metadata": {
    "scrolled": false
   },
   "outputs": [
    {
     "data": {
      "text/html": [
       "<div>\n",
       "<style scoped>\n",
       "    .dataframe tbody tr th:only-of-type {\n",
       "        vertical-align: middle;\n",
       "    }\n",
       "\n",
       "    .dataframe tbody tr th {\n",
       "        vertical-align: top;\n",
       "    }\n",
       "\n",
       "    .dataframe thead th {\n",
       "        text-align: right;\n",
       "    }\n",
       "</style>\n",
       "<table border=\"1\" class=\"dataframe\">\n",
       "  <thead>\n",
       "    <tr style=\"text-align: right;\">\n",
       "      <th></th>\n",
       "      <th>vehicle_model_id</th>\n",
       "      <th>travel_type_id</th>\n",
       "      <th>from_area_id</th>\n",
       "      <th>to_area_id</th>\n",
       "      <th>from_date</th>\n",
       "      <th>online_booking</th>\n",
       "      <th>mobile_site_booking</th>\n",
       "      <th>booking_created</th>\n",
       "      <th>Car_Cancellation</th>\n",
       "      <th>from_dt_time_of_day</th>\n",
       "      <th>booking_dt_time_of_day</th>\n",
       "      <th>booking_created_day_of_week</th>\n",
       "      <th>from_date_day_of_week</th>\n",
       "      <th>type_of_day_booking_dt</th>\n",
       "      <th>type_of_day_from_dt</th>\n",
       "      <th>day_of_month_booking_dt</th>\n",
       "      <th>day_of_month_from_dt</th>\n",
       "      <th>month_number_booking_dt</th>\n",
       "      <th>month_number_from_dt</th>\n",
       "    </tr>\n",
       "  </thead>\n",
       "  <tbody>\n",
       "    <tr>\n",
       "      <th>0</th>\n",
       "      <td>28</td>\n",
       "      <td>2</td>\n",
       "      <td>83.0</td>\n",
       "      <td>448.0</td>\n",
       "      <td>2013-01-01 02:00:00</td>\n",
       "      <td>0</td>\n",
       "      <td>0</td>\n",
       "      <td>2013-01-01 01:39:00</td>\n",
       "      <td>0</td>\n",
       "      <td>Mid_Night</td>\n",
       "      <td>Mid_Night</td>\n",
       "      <td>Tuesday</td>\n",
       "      <td>Tuesday</td>\n",
       "      <td>Weekday</td>\n",
       "      <td>Weekday</td>\n",
       "      <td>1</td>\n",
       "      <td>1</td>\n",
       "      <td>1</td>\n",
       "      <td>1</td>\n",
       "    </tr>\n",
       "    <tr>\n",
       "      <th>1</th>\n",
       "      <td>12</td>\n",
       "      <td>2</td>\n",
       "      <td>1010.0</td>\n",
       "      <td>540.0</td>\n",
       "      <td>2013-01-01 09:00:00</td>\n",
       "      <td>0</td>\n",
       "      <td>0</td>\n",
       "      <td>2013-01-01 02:25:00</td>\n",
       "      <td>0</td>\n",
       "      <td>Morning</td>\n",
       "      <td>Mid_Night</td>\n",
       "      <td>Tuesday</td>\n",
       "      <td>Tuesday</td>\n",
       "      <td>Weekday</td>\n",
       "      <td>Weekday</td>\n",
       "      <td>1</td>\n",
       "      <td>1</td>\n",
       "      <td>1</td>\n",
       "      <td>1</td>\n",
       "    </tr>\n",
       "    <tr>\n",
       "      <th>2</th>\n",
       "      <td>12</td>\n",
       "      <td>2</td>\n",
       "      <td>1301.0</td>\n",
       "      <td>1034.0</td>\n",
       "      <td>2013-01-01 03:30:00</td>\n",
       "      <td>0</td>\n",
       "      <td>0</td>\n",
       "      <td>2013-01-01 03:08:00</td>\n",
       "      <td>0</td>\n",
       "      <td>Mid_Night</td>\n",
       "      <td>Mid_Night</td>\n",
       "      <td>Tuesday</td>\n",
       "      <td>Tuesday</td>\n",
       "      <td>Weekday</td>\n",
       "      <td>Weekday</td>\n",
       "      <td>1</td>\n",
       "      <td>1</td>\n",
       "      <td>1</td>\n",
       "      <td>1</td>\n",
       "    </tr>\n",
       "    <tr>\n",
       "      <th>3</th>\n",
       "      <td>12</td>\n",
       "      <td>2</td>\n",
       "      <td>768.0</td>\n",
       "      <td>398.0</td>\n",
       "      <td>2013-01-01 05:45:00</td>\n",
       "      <td>0</td>\n",
       "      <td>0</td>\n",
       "      <td>2013-01-01 04:39:00</td>\n",
       "      <td>0</td>\n",
       "      <td>Morning</td>\n",
       "      <td>Mid_Night</td>\n",
       "      <td>Tuesday</td>\n",
       "      <td>Tuesday</td>\n",
       "      <td>Weekday</td>\n",
       "      <td>Weekday</td>\n",
       "      <td>1</td>\n",
       "      <td>1</td>\n",
       "      <td>1</td>\n",
       "      <td>1</td>\n",
       "    </tr>\n",
       "    <tr>\n",
       "      <th>4</th>\n",
       "      <td>12</td>\n",
       "      <td>2</td>\n",
       "      <td>1365.0</td>\n",
       "      <td>849.0</td>\n",
       "      <td>2013-01-01 09:00:00</td>\n",
       "      <td>0</td>\n",
       "      <td>0</td>\n",
       "      <td>2013-01-01 07:53:00</td>\n",
       "      <td>0</td>\n",
       "      <td>Morning</td>\n",
       "      <td>Morning</td>\n",
       "      <td>Tuesday</td>\n",
       "      <td>Tuesday</td>\n",
       "      <td>Weekday</td>\n",
       "      <td>Weekday</td>\n",
       "      <td>1</td>\n",
       "      <td>1</td>\n",
       "      <td>1</td>\n",
       "      <td>1</td>\n",
       "    </tr>\n",
       "  </tbody>\n",
       "</table>\n",
       "</div>"
      ],
      "text/plain": [
       "   vehicle_model_id  travel_type_id  from_area_id  to_area_id  \\\n",
       "0                28               2          83.0       448.0   \n",
       "1                12               2        1010.0       540.0   \n",
       "2                12               2        1301.0      1034.0   \n",
       "3                12               2         768.0       398.0   \n",
       "4                12               2        1365.0       849.0   \n",
       "\n",
       "            from_date  online_booking  mobile_site_booking  \\\n",
       "0 2013-01-01 02:00:00               0                    0   \n",
       "1 2013-01-01 09:00:00               0                    0   \n",
       "2 2013-01-01 03:30:00               0                    0   \n",
       "3 2013-01-01 05:45:00               0                    0   \n",
       "4 2013-01-01 09:00:00               0                    0   \n",
       "\n",
       "      booking_created  Car_Cancellation from_dt_time_of_day  \\\n",
       "0 2013-01-01 01:39:00                 0           Mid_Night   \n",
       "1 2013-01-01 02:25:00                 0             Morning   \n",
       "2 2013-01-01 03:08:00                 0           Mid_Night   \n",
       "3 2013-01-01 04:39:00                 0             Morning   \n",
       "4 2013-01-01 07:53:00                 0             Morning   \n",
       "\n",
       "  booking_dt_time_of_day booking_created_day_of_week from_date_day_of_week  \\\n",
       "0              Mid_Night                     Tuesday               Tuesday   \n",
       "1              Mid_Night                     Tuesday               Tuesday   \n",
       "2              Mid_Night                     Tuesday               Tuesday   \n",
       "3              Mid_Night                     Tuesday               Tuesday   \n",
       "4                Morning                     Tuesday               Tuesday   \n",
       "\n",
       "  type_of_day_booking_dt type_of_day_from_dt  day_of_month_booking_dt  \\\n",
       "0                Weekday             Weekday                        1   \n",
       "1                Weekday             Weekday                        1   \n",
       "2                Weekday             Weekday                        1   \n",
       "3                Weekday             Weekday                        1   \n",
       "4                Weekday             Weekday                        1   \n",
       "\n",
       "   day_of_month_from_dt  month_number_booking_dt  month_number_from_dt  \n",
       "0                     1                        1                     1  \n",
       "1                     1                        1                     1  \n",
       "2                     1                        1                     1  \n",
       "3                     1                        1                     1  \n",
       "4                     1                        1                     1  "
      ]
     },
     "execution_count": 374,
     "metadata": {},
     "output_type": "execute_result"
    }
   ],
   "source": [
    "mycab_final.head()"
   ]
  },
  {
   "cell_type": "code",
   "execution_count": 375,
   "id": "1fe47a92",
   "metadata": {},
   "outputs": [],
   "source": [
    "mycab_final['from_date']=pd.to_datetime(mycab_final['from_date'])\n",
    "mycab_final['booking_created']=pd.to_datetime(mycab_final['booking_created'])"
   ]
  },
  {
   "cell_type": "code",
   "execution_count": 376,
   "id": "9cac0748",
   "metadata": {},
   "outputs": [
    {
     "data": {
      "text/plain": [
       "2    0.791177\n",
       "3    0.174192\n",
       "1    0.034631\n",
       "Name: travel_type_id, dtype: float64"
      ]
     },
     "execution_count": 376,
     "metadata": {},
     "output_type": "execute_result"
    }
   ],
   "source": [
    "mycab_final['travel_type_id'].value_counts(normalize=True)"
   ]
  },
  {
   "cell_type": "code",
   "execution_count": null,
   "id": "5d6aae3c",
   "metadata": {},
   "outputs": [],
   "source": []
  },
  {
   "cell_type": "code",
   "execution_count": 377,
   "id": "26e27aeb",
   "metadata": {
    "scrolled": true
   },
   "outputs": [
    {
     "name": "stdout",
     "output_type": "stream",
     "text": [
      "<class 'pandas.core.frame.DataFrame'>\n",
      "Int64Index: 43343 entries, 0 to 43430\n",
      "Data columns (total 19 columns):\n",
      " #   Column                       Non-Null Count  Dtype         \n",
      "---  ------                       --------------  -----         \n",
      " 0   vehicle_model_id             43343 non-null  int64         \n",
      " 1   travel_type_id               43343 non-null  int64         \n",
      " 2   from_area_id                 43343 non-null  float64       \n",
      " 3   to_area_id                   43343 non-null  float64       \n",
      " 4   from_date                    43343 non-null  datetime64[ns]\n",
      " 5   online_booking               43343 non-null  int64         \n",
      " 6   mobile_site_booking          43343 non-null  int64         \n",
      " 7   booking_created              43343 non-null  datetime64[ns]\n",
      " 8   Car_Cancellation             43343 non-null  int64         \n",
      " 9   from_dt_time_of_day          43343 non-null  object        \n",
      " 10  booking_dt_time_of_day       43343 non-null  object        \n",
      " 11  booking_created_day_of_week  43343 non-null  object        \n",
      " 12  from_date_day_of_week        43343 non-null  object        \n",
      " 13  type_of_day_booking_dt       43343 non-null  object        \n",
      " 14  type_of_day_from_dt          43343 non-null  object        \n",
      " 15  day_of_month_booking_dt      43343 non-null  int64         \n",
      " 16  day_of_month_from_dt         43343 non-null  int64         \n",
      " 17  month_number_booking_dt      43343 non-null  int64         \n",
      " 18  month_number_from_dt         43343 non-null  int64         \n",
      "dtypes: datetime64[ns](2), float64(2), int64(9), object(6)\n",
      "memory usage: 7.6+ MB\n"
     ]
    }
   ],
   "source": [
    "mycab_final.info()"
   ]
  },
  {
   "cell_type": "code",
   "execution_count": 378,
   "id": "bf68a254",
   "metadata": {},
   "outputs": [],
   "source": [
    "mycab_final['difference_bookingdt_startdt']=mycab_final.from_date-mycab_final.booking_created\n",
    "mycab_final['difference_bookingdt_startdt_mins']=mycab_final['difference_bookingdt_startdt']/np.timedelta64(1,'m')\n",
    "mycab_final.drop(columns=['difference_bookingdt_startdt'],inplace=True)"
   ]
  },
  {
   "cell_type": "code",
   "execution_count": 379,
   "id": "3a5ee31a",
   "metadata": {},
   "outputs": [
    {
     "data": {
      "text/html": [
       "<div>\n",
       "<style scoped>\n",
       "    .dataframe tbody tr th:only-of-type {\n",
       "        vertical-align: middle;\n",
       "    }\n",
       "\n",
       "    .dataframe tbody tr th {\n",
       "        vertical-align: top;\n",
       "    }\n",
       "\n",
       "    .dataframe thead th {\n",
       "        text-align: right;\n",
       "    }\n",
       "</style>\n",
       "<table border=\"1\" class=\"dataframe\">\n",
       "  <thead>\n",
       "    <tr style=\"text-align: right;\">\n",
       "      <th></th>\n",
       "      <th>vehicle_model_id</th>\n",
       "      <th>travel_type_id</th>\n",
       "      <th>from_area_id</th>\n",
       "      <th>to_area_id</th>\n",
       "      <th>from_date</th>\n",
       "      <th>online_booking</th>\n",
       "      <th>mobile_site_booking</th>\n",
       "      <th>booking_created</th>\n",
       "      <th>Car_Cancellation</th>\n",
       "      <th>from_dt_time_of_day</th>\n",
       "      <th>booking_dt_time_of_day</th>\n",
       "      <th>booking_created_day_of_week</th>\n",
       "      <th>from_date_day_of_week</th>\n",
       "      <th>type_of_day_booking_dt</th>\n",
       "      <th>type_of_day_from_dt</th>\n",
       "      <th>day_of_month_booking_dt</th>\n",
       "      <th>day_of_month_from_dt</th>\n",
       "      <th>month_number_booking_dt</th>\n",
       "      <th>month_number_from_dt</th>\n",
       "      <th>difference_bookingdt_startdt_mins</th>\n",
       "    </tr>\n",
       "  </thead>\n",
       "  <tbody>\n",
       "    <tr>\n",
       "      <th>0</th>\n",
       "      <td>28</td>\n",
       "      <td>2</td>\n",
       "      <td>83.0</td>\n",
       "      <td>448.0</td>\n",
       "      <td>2013-01-01 02:00:00</td>\n",
       "      <td>0</td>\n",
       "      <td>0</td>\n",
       "      <td>2013-01-01 01:39:00</td>\n",
       "      <td>0</td>\n",
       "      <td>Mid_Night</td>\n",
       "      <td>Mid_Night</td>\n",
       "      <td>Tuesday</td>\n",
       "      <td>Tuesday</td>\n",
       "      <td>Weekday</td>\n",
       "      <td>Weekday</td>\n",
       "      <td>1</td>\n",
       "      <td>1</td>\n",
       "      <td>1</td>\n",
       "      <td>1</td>\n",
       "      <td>21.0</td>\n",
       "    </tr>\n",
       "    <tr>\n",
       "      <th>1</th>\n",
       "      <td>12</td>\n",
       "      <td>2</td>\n",
       "      <td>1010.0</td>\n",
       "      <td>540.0</td>\n",
       "      <td>2013-01-01 09:00:00</td>\n",
       "      <td>0</td>\n",
       "      <td>0</td>\n",
       "      <td>2013-01-01 02:25:00</td>\n",
       "      <td>0</td>\n",
       "      <td>Morning</td>\n",
       "      <td>Mid_Night</td>\n",
       "      <td>Tuesday</td>\n",
       "      <td>Tuesday</td>\n",
       "      <td>Weekday</td>\n",
       "      <td>Weekday</td>\n",
       "      <td>1</td>\n",
       "      <td>1</td>\n",
       "      <td>1</td>\n",
       "      <td>1</td>\n",
       "      <td>395.0</td>\n",
       "    </tr>\n",
       "    <tr>\n",
       "      <th>2</th>\n",
       "      <td>12</td>\n",
       "      <td>2</td>\n",
       "      <td>1301.0</td>\n",
       "      <td>1034.0</td>\n",
       "      <td>2013-01-01 03:30:00</td>\n",
       "      <td>0</td>\n",
       "      <td>0</td>\n",
       "      <td>2013-01-01 03:08:00</td>\n",
       "      <td>0</td>\n",
       "      <td>Mid_Night</td>\n",
       "      <td>Mid_Night</td>\n",
       "      <td>Tuesday</td>\n",
       "      <td>Tuesday</td>\n",
       "      <td>Weekday</td>\n",
       "      <td>Weekday</td>\n",
       "      <td>1</td>\n",
       "      <td>1</td>\n",
       "      <td>1</td>\n",
       "      <td>1</td>\n",
       "      <td>22.0</td>\n",
       "    </tr>\n",
       "    <tr>\n",
       "      <th>3</th>\n",
       "      <td>12</td>\n",
       "      <td>2</td>\n",
       "      <td>768.0</td>\n",
       "      <td>398.0</td>\n",
       "      <td>2013-01-01 05:45:00</td>\n",
       "      <td>0</td>\n",
       "      <td>0</td>\n",
       "      <td>2013-01-01 04:39:00</td>\n",
       "      <td>0</td>\n",
       "      <td>Morning</td>\n",
       "      <td>Mid_Night</td>\n",
       "      <td>Tuesday</td>\n",
       "      <td>Tuesday</td>\n",
       "      <td>Weekday</td>\n",
       "      <td>Weekday</td>\n",
       "      <td>1</td>\n",
       "      <td>1</td>\n",
       "      <td>1</td>\n",
       "      <td>1</td>\n",
       "      <td>66.0</td>\n",
       "    </tr>\n",
       "    <tr>\n",
       "      <th>4</th>\n",
       "      <td>12</td>\n",
       "      <td>2</td>\n",
       "      <td>1365.0</td>\n",
       "      <td>849.0</td>\n",
       "      <td>2013-01-01 09:00:00</td>\n",
       "      <td>0</td>\n",
       "      <td>0</td>\n",
       "      <td>2013-01-01 07:53:00</td>\n",
       "      <td>0</td>\n",
       "      <td>Morning</td>\n",
       "      <td>Morning</td>\n",
       "      <td>Tuesday</td>\n",
       "      <td>Tuesday</td>\n",
       "      <td>Weekday</td>\n",
       "      <td>Weekday</td>\n",
       "      <td>1</td>\n",
       "      <td>1</td>\n",
       "      <td>1</td>\n",
       "      <td>1</td>\n",
       "      <td>67.0</td>\n",
       "    </tr>\n",
       "  </tbody>\n",
       "</table>\n",
       "</div>"
      ],
      "text/plain": [
       "   vehicle_model_id  travel_type_id  from_area_id  to_area_id  \\\n",
       "0                28               2          83.0       448.0   \n",
       "1                12               2        1010.0       540.0   \n",
       "2                12               2        1301.0      1034.0   \n",
       "3                12               2         768.0       398.0   \n",
       "4                12               2        1365.0       849.0   \n",
       "\n",
       "            from_date  online_booking  mobile_site_booking  \\\n",
       "0 2013-01-01 02:00:00               0                    0   \n",
       "1 2013-01-01 09:00:00               0                    0   \n",
       "2 2013-01-01 03:30:00               0                    0   \n",
       "3 2013-01-01 05:45:00               0                    0   \n",
       "4 2013-01-01 09:00:00               0                    0   \n",
       "\n",
       "      booking_created  Car_Cancellation from_dt_time_of_day  \\\n",
       "0 2013-01-01 01:39:00                 0           Mid_Night   \n",
       "1 2013-01-01 02:25:00                 0             Morning   \n",
       "2 2013-01-01 03:08:00                 0           Mid_Night   \n",
       "3 2013-01-01 04:39:00                 0             Morning   \n",
       "4 2013-01-01 07:53:00                 0             Morning   \n",
       "\n",
       "  booking_dt_time_of_day booking_created_day_of_week from_date_day_of_week  \\\n",
       "0              Mid_Night                     Tuesday               Tuesday   \n",
       "1              Mid_Night                     Tuesday               Tuesday   \n",
       "2              Mid_Night                     Tuesday               Tuesday   \n",
       "3              Mid_Night                     Tuesday               Tuesday   \n",
       "4                Morning                     Tuesday               Tuesday   \n",
       "\n",
       "  type_of_day_booking_dt type_of_day_from_dt  day_of_month_booking_dt  \\\n",
       "0                Weekday             Weekday                        1   \n",
       "1                Weekday             Weekday                        1   \n",
       "2                Weekday             Weekday                        1   \n",
       "3                Weekday             Weekday                        1   \n",
       "4                Weekday             Weekday                        1   \n",
       "\n",
       "   day_of_month_from_dt  month_number_booking_dt  month_number_from_dt  \\\n",
       "0                     1                        1                     1   \n",
       "1                     1                        1                     1   \n",
       "2                     1                        1                     1   \n",
       "3                     1                        1                     1   \n",
       "4                     1                        1                     1   \n",
       "\n",
       "   difference_bookingdt_startdt_mins  \n",
       "0                               21.0  \n",
       "1                              395.0  \n",
       "2                               22.0  \n",
       "3                               66.0  \n",
       "4                               67.0  "
      ]
     },
     "execution_count": 379,
     "metadata": {},
     "output_type": "execute_result"
    }
   ],
   "source": [
    "mycab_final.head()"
   ]
  },
  {
   "cell_type": "code",
   "execution_count": 380,
   "id": "cfdebae1",
   "metadata": {},
   "outputs": [
    {
     "data": {
      "text/plain": [
       "Index(['vehicle_model_id', 'travel_type_id', 'from_area_id', 'to_area_id',\n",
       "       'from_date', 'online_booking', 'mobile_site_booking', 'booking_created',\n",
       "       'Car_Cancellation', 'from_dt_time_of_day', 'booking_dt_time_of_day',\n",
       "       'booking_created_day_of_week', 'from_date_day_of_week',\n",
       "       'type_of_day_booking_dt', 'type_of_day_from_dt',\n",
       "       'day_of_month_booking_dt', 'day_of_month_from_dt',\n",
       "       'month_number_booking_dt', 'month_number_from_dt',\n",
       "       'difference_bookingdt_startdt_mins'],\n",
       "      dtype='object')"
      ]
     },
     "execution_count": 380,
     "metadata": {},
     "output_type": "execute_result"
    }
   ],
   "source": [
    "mycab_final.columns"
   ]
  },
  {
   "cell_type": "code",
   "execution_count": 381,
   "id": "2ebbeac1",
   "metadata": {},
   "outputs": [],
   "source": [
    "mycab_final_new=mycab_final[['vehicle_model_id', 'travel_type_id', 'from_area_id', 'to_area_id','online_booking', 'mobile_site_booking','from_dt_time_of_day', 'booking_dt_time_of_day','booking_created_day_of_week', 'from_date_day_of_week','type_of_day_booking_dt', 'type_of_day_from_dt','difference_bookingdt_startdt_mins','day_of_month_booking_dt','day_of_month_from_dt','month_number_booking_dt','month_number_from_dt','Car_Cancellation']]"
   ]
  },
  {
   "cell_type": "code",
   "execution_count": 382,
   "id": "274b299a",
   "metadata": {},
   "outputs": [
    {
     "data": {
      "text/html": [
       "<div>\n",
       "<style scoped>\n",
       "    .dataframe tbody tr th:only-of-type {\n",
       "        vertical-align: middle;\n",
       "    }\n",
       "\n",
       "    .dataframe tbody tr th {\n",
       "        vertical-align: top;\n",
       "    }\n",
       "\n",
       "    .dataframe thead th {\n",
       "        text-align: right;\n",
       "    }\n",
       "</style>\n",
       "<table border=\"1\" class=\"dataframe\">\n",
       "  <thead>\n",
       "    <tr style=\"text-align: right;\">\n",
       "      <th></th>\n",
       "      <th>vehicle_model_id</th>\n",
       "      <th>travel_type_id</th>\n",
       "      <th>from_area_id</th>\n",
       "      <th>to_area_id</th>\n",
       "      <th>online_booking</th>\n",
       "      <th>mobile_site_booking</th>\n",
       "      <th>from_dt_time_of_day</th>\n",
       "      <th>booking_dt_time_of_day</th>\n",
       "      <th>booking_created_day_of_week</th>\n",
       "      <th>from_date_day_of_week</th>\n",
       "      <th>type_of_day_booking_dt</th>\n",
       "      <th>type_of_day_from_dt</th>\n",
       "      <th>difference_bookingdt_startdt_mins</th>\n",
       "      <th>day_of_month_booking_dt</th>\n",
       "      <th>day_of_month_from_dt</th>\n",
       "      <th>month_number_booking_dt</th>\n",
       "      <th>month_number_from_dt</th>\n",
       "      <th>Car_Cancellation</th>\n",
       "    </tr>\n",
       "  </thead>\n",
       "  <tbody>\n",
       "    <tr>\n",
       "      <th>0</th>\n",
       "      <td>28</td>\n",
       "      <td>2</td>\n",
       "      <td>83.0</td>\n",
       "      <td>448.0</td>\n",
       "      <td>0</td>\n",
       "      <td>0</td>\n",
       "      <td>Mid_Night</td>\n",
       "      <td>Mid_Night</td>\n",
       "      <td>Tuesday</td>\n",
       "      <td>Tuesday</td>\n",
       "      <td>Weekday</td>\n",
       "      <td>Weekday</td>\n",
       "      <td>21.0</td>\n",
       "      <td>1</td>\n",
       "      <td>1</td>\n",
       "      <td>1</td>\n",
       "      <td>1</td>\n",
       "      <td>0</td>\n",
       "    </tr>\n",
       "    <tr>\n",
       "      <th>1</th>\n",
       "      <td>12</td>\n",
       "      <td>2</td>\n",
       "      <td>1010.0</td>\n",
       "      <td>540.0</td>\n",
       "      <td>0</td>\n",
       "      <td>0</td>\n",
       "      <td>Morning</td>\n",
       "      <td>Mid_Night</td>\n",
       "      <td>Tuesday</td>\n",
       "      <td>Tuesday</td>\n",
       "      <td>Weekday</td>\n",
       "      <td>Weekday</td>\n",
       "      <td>395.0</td>\n",
       "      <td>1</td>\n",
       "      <td>1</td>\n",
       "      <td>1</td>\n",
       "      <td>1</td>\n",
       "      <td>0</td>\n",
       "    </tr>\n",
       "  </tbody>\n",
       "</table>\n",
       "</div>"
      ],
      "text/plain": [
       "   vehicle_model_id  travel_type_id  from_area_id  to_area_id  online_booking  \\\n",
       "0                28               2          83.0       448.0               0   \n",
       "1                12               2        1010.0       540.0               0   \n",
       "\n",
       "   mobile_site_booking from_dt_time_of_day booking_dt_time_of_day  \\\n",
       "0                    0           Mid_Night              Mid_Night   \n",
       "1                    0             Morning              Mid_Night   \n",
       "\n",
       "  booking_created_day_of_week from_date_day_of_week type_of_day_booking_dt  \\\n",
       "0                     Tuesday               Tuesday                Weekday   \n",
       "1                     Tuesday               Tuesday                Weekday   \n",
       "\n",
       "  type_of_day_from_dt  difference_bookingdt_startdt_mins  \\\n",
       "0             Weekday                               21.0   \n",
       "1             Weekday                              395.0   \n",
       "\n",
       "   day_of_month_booking_dt  day_of_month_from_dt  month_number_booking_dt  \\\n",
       "0                        1                     1                        1   \n",
       "1                        1                     1                        1   \n",
       "\n",
       "   month_number_from_dt  Car_Cancellation  \n",
       "0                     1                 0  \n",
       "1                     1                 0  "
      ]
     },
     "execution_count": 382,
     "metadata": {},
     "output_type": "execute_result"
    }
   ],
   "source": [
    "mycab_final_new.head(2)"
   ]
  },
  {
   "cell_type": "code",
   "execution_count": 383,
   "id": "64dc2f92",
   "metadata": {},
   "outputs": [],
   "source": [
    "mycab_final_new = pd.get_dummies(mycab_final_new,columns=['from_dt_time_of_day','booking_dt_time_of_day','booking_created_day_of_week','from_date_day_of_week','type_of_day_booking_dt','type_of_day_from_dt'],drop_first=True)"
   ]
  },
  {
   "cell_type": "code",
   "execution_count": 384,
   "id": "3a6ef13d",
   "metadata": {},
   "outputs": [
    {
     "data": {
      "text/html": [
       "<div>\n",
       "<style scoped>\n",
       "    .dataframe tbody tr th:only-of-type {\n",
       "        vertical-align: middle;\n",
       "    }\n",
       "\n",
       "    .dataframe tbody tr th {\n",
       "        vertical-align: top;\n",
       "    }\n",
       "\n",
       "    .dataframe thead th {\n",
       "        text-align: right;\n",
       "    }\n",
       "</style>\n",
       "<table border=\"1\" class=\"dataframe\">\n",
       "  <thead>\n",
       "    <tr style=\"text-align: right;\">\n",
       "      <th></th>\n",
       "      <th>vehicle_model_id</th>\n",
       "      <th>travel_type_id</th>\n",
       "      <th>from_area_id</th>\n",
       "      <th>to_area_id</th>\n",
       "      <th>online_booking</th>\n",
       "      <th>mobile_site_booking</th>\n",
       "      <th>difference_bookingdt_startdt_mins</th>\n",
       "      <th>day_of_month_booking_dt</th>\n",
       "      <th>day_of_month_from_dt</th>\n",
       "      <th>month_number_booking_dt</th>\n",
       "      <th>...</th>\n",
       "      <th>booking_created_day_of_week_Tuesday</th>\n",
       "      <th>booking_created_day_of_week_Wednesday</th>\n",
       "      <th>from_date_day_of_week_Monday</th>\n",
       "      <th>from_date_day_of_week_Saturday</th>\n",
       "      <th>from_date_day_of_week_Sunday</th>\n",
       "      <th>from_date_day_of_week_Thursday</th>\n",
       "      <th>from_date_day_of_week_Tuesday</th>\n",
       "      <th>from_date_day_of_week_Wednesday</th>\n",
       "      <th>type_of_day_booking_dt_Weekend</th>\n",
       "      <th>type_of_day_from_dt_Weekend</th>\n",
       "    </tr>\n",
       "  </thead>\n",
       "  <tbody>\n",
       "    <tr>\n",
       "      <th>0</th>\n",
       "      <td>28</td>\n",
       "      <td>2</td>\n",
       "      <td>83.0</td>\n",
       "      <td>448.0</td>\n",
       "      <td>0</td>\n",
       "      <td>0</td>\n",
       "      <td>21.0</td>\n",
       "      <td>1</td>\n",
       "      <td>1</td>\n",
       "      <td>1</td>\n",
       "      <td>...</td>\n",
       "      <td>1</td>\n",
       "      <td>0</td>\n",
       "      <td>0</td>\n",
       "      <td>0</td>\n",
       "      <td>0</td>\n",
       "      <td>0</td>\n",
       "      <td>1</td>\n",
       "      <td>0</td>\n",
       "      <td>0</td>\n",
       "      <td>0</td>\n",
       "    </tr>\n",
       "    <tr>\n",
       "      <th>1</th>\n",
       "      <td>12</td>\n",
       "      <td>2</td>\n",
       "      <td>1010.0</td>\n",
       "      <td>540.0</td>\n",
       "      <td>0</td>\n",
       "      <td>0</td>\n",
       "      <td>395.0</td>\n",
       "      <td>1</td>\n",
       "      <td>1</td>\n",
       "      <td>1</td>\n",
       "      <td>...</td>\n",
       "      <td>1</td>\n",
       "      <td>0</td>\n",
       "      <td>0</td>\n",
       "      <td>0</td>\n",
       "      <td>0</td>\n",
       "      <td>0</td>\n",
       "      <td>1</td>\n",
       "      <td>0</td>\n",
       "      <td>0</td>\n",
       "      <td>0</td>\n",
       "    </tr>\n",
       "    <tr>\n",
       "      <th>2</th>\n",
       "      <td>12</td>\n",
       "      <td>2</td>\n",
       "      <td>1301.0</td>\n",
       "      <td>1034.0</td>\n",
       "      <td>0</td>\n",
       "      <td>0</td>\n",
       "      <td>22.0</td>\n",
       "      <td>1</td>\n",
       "      <td>1</td>\n",
       "      <td>1</td>\n",
       "      <td>...</td>\n",
       "      <td>1</td>\n",
       "      <td>0</td>\n",
       "      <td>0</td>\n",
       "      <td>0</td>\n",
       "      <td>0</td>\n",
       "      <td>0</td>\n",
       "      <td>1</td>\n",
       "      <td>0</td>\n",
       "      <td>0</td>\n",
       "      <td>0</td>\n",
       "    </tr>\n",
       "    <tr>\n",
       "      <th>3</th>\n",
       "      <td>12</td>\n",
       "      <td>2</td>\n",
       "      <td>768.0</td>\n",
       "      <td>398.0</td>\n",
       "      <td>0</td>\n",
       "      <td>0</td>\n",
       "      <td>66.0</td>\n",
       "      <td>1</td>\n",
       "      <td>1</td>\n",
       "      <td>1</td>\n",
       "      <td>...</td>\n",
       "      <td>1</td>\n",
       "      <td>0</td>\n",
       "      <td>0</td>\n",
       "      <td>0</td>\n",
       "      <td>0</td>\n",
       "      <td>0</td>\n",
       "      <td>1</td>\n",
       "      <td>0</td>\n",
       "      <td>0</td>\n",
       "      <td>0</td>\n",
       "    </tr>\n",
       "    <tr>\n",
       "      <th>4</th>\n",
       "      <td>12</td>\n",
       "      <td>2</td>\n",
       "      <td>1365.0</td>\n",
       "      <td>849.0</td>\n",
       "      <td>0</td>\n",
       "      <td>0</td>\n",
       "      <td>67.0</td>\n",
       "      <td>1</td>\n",
       "      <td>1</td>\n",
       "      <td>1</td>\n",
       "      <td>...</td>\n",
       "      <td>1</td>\n",
       "      <td>0</td>\n",
       "      <td>0</td>\n",
       "      <td>0</td>\n",
       "      <td>0</td>\n",
       "      <td>0</td>\n",
       "      <td>1</td>\n",
       "      <td>0</td>\n",
       "      <td>0</td>\n",
       "      <td>0</td>\n",
       "    </tr>\n",
       "  </tbody>\n",
       "</table>\n",
       "<p>5 rows × 34 columns</p>\n",
       "</div>"
      ],
      "text/plain": [
       "   vehicle_model_id  travel_type_id  from_area_id  to_area_id  online_booking  \\\n",
       "0                28               2          83.0       448.0               0   \n",
       "1                12               2        1010.0       540.0               0   \n",
       "2                12               2        1301.0      1034.0               0   \n",
       "3                12               2         768.0       398.0               0   \n",
       "4                12               2        1365.0       849.0               0   \n",
       "\n",
       "   mobile_site_booking  difference_bookingdt_startdt_mins  \\\n",
       "0                    0                               21.0   \n",
       "1                    0                              395.0   \n",
       "2                    0                               22.0   \n",
       "3                    0                               66.0   \n",
       "4                    0                               67.0   \n",
       "\n",
       "   day_of_month_booking_dt  day_of_month_from_dt  month_number_booking_dt  \\\n",
       "0                        1                     1                        1   \n",
       "1                        1                     1                        1   \n",
       "2                        1                     1                        1   \n",
       "3                        1                     1                        1   \n",
       "4                        1                     1                        1   \n",
       "\n",
       "   ...  booking_created_day_of_week_Tuesday  \\\n",
       "0  ...                                    1   \n",
       "1  ...                                    1   \n",
       "2  ...                                    1   \n",
       "3  ...                                    1   \n",
       "4  ...                                    1   \n",
       "\n",
       "   booking_created_day_of_week_Wednesday  from_date_day_of_week_Monday  \\\n",
       "0                                      0                             0   \n",
       "1                                      0                             0   \n",
       "2                                      0                             0   \n",
       "3                                      0                             0   \n",
       "4                                      0                             0   \n",
       "\n",
       "   from_date_day_of_week_Saturday  from_date_day_of_week_Sunday  \\\n",
       "0                               0                             0   \n",
       "1                               0                             0   \n",
       "2                               0                             0   \n",
       "3                               0                             0   \n",
       "4                               0                             0   \n",
       "\n",
       "   from_date_day_of_week_Thursday  from_date_day_of_week_Tuesday  \\\n",
       "0                               0                              1   \n",
       "1                               0                              1   \n",
       "2                               0                              1   \n",
       "3                               0                              1   \n",
       "4                               0                              1   \n",
       "\n",
       "   from_date_day_of_week_Wednesday  type_of_day_booking_dt_Weekend  \\\n",
       "0                                0                               0   \n",
       "1                                0                               0   \n",
       "2                                0                               0   \n",
       "3                                0                               0   \n",
       "4                                0                               0   \n",
       "\n",
       "   type_of_day_from_dt_Weekend  \n",
       "0                            0  \n",
       "1                            0  \n",
       "2                            0  \n",
       "3                            0  \n",
       "4                            0  \n",
       "\n",
       "[5 rows x 34 columns]"
      ]
     },
     "execution_count": 384,
     "metadata": {},
     "output_type": "execute_result"
    }
   ],
   "source": [
    "mycab_final_new.head()"
   ]
  },
  {
   "cell_type": "code",
   "execution_count": 385,
   "id": "233b3593",
   "metadata": {},
   "outputs": [
    {
     "data": {
      "text/plain": [
       "vehicle_model_id                         0\n",
       "travel_type_id                           0\n",
       "from_area_id                             0\n",
       "to_area_id                               0\n",
       "online_booking                           0\n",
       "mobile_site_booking                      0\n",
       "difference_bookingdt_startdt_mins        0\n",
       "day_of_month_booking_dt                  0\n",
       "day_of_month_from_dt                     0\n",
       "month_number_booking_dt                  0\n",
       "month_number_from_dt                     0\n",
       "Car_Cancellation                         0\n",
       "from_dt_time_of_day_Mid_Night            0\n",
       "from_dt_time_of_day_Morning              0\n",
       "from_dt_time_of_day_Night                0\n",
       "from_dt_time_of_day_Noon                 0\n",
       "booking_dt_time_of_day_Mid_Night         0\n",
       "booking_dt_time_of_day_Morning           0\n",
       "booking_dt_time_of_day_Night             0\n",
       "booking_dt_time_of_day_Noon              0\n",
       "booking_created_day_of_week_Monday       0\n",
       "booking_created_day_of_week_Saturday     0\n",
       "booking_created_day_of_week_Sunday       0\n",
       "booking_created_day_of_week_Thursday     0\n",
       "booking_created_day_of_week_Tuesday      0\n",
       "booking_created_day_of_week_Wednesday    0\n",
       "from_date_day_of_week_Monday             0\n",
       "from_date_day_of_week_Saturday           0\n",
       "from_date_day_of_week_Sunday             0\n",
       "from_date_day_of_week_Thursday           0\n",
       "from_date_day_of_week_Tuesday            0\n",
       "from_date_day_of_week_Wednesday          0\n",
       "type_of_day_booking_dt_Weekend           0\n",
       "type_of_day_from_dt_Weekend              0\n",
       "dtype: int64"
      ]
     },
     "execution_count": 385,
     "metadata": {},
     "output_type": "execute_result"
    }
   ],
   "source": [
    "mycab_final_new.isnull().sum()"
   ]
  },
  {
   "cell_type": "code",
   "execution_count": 386,
   "id": "f4d78f66",
   "metadata": {},
   "outputs": [],
   "source": [
    "mycab_final_new_x = mycab_final_new.drop(columns=['Car_Cancellation'])\n",
    "mycab_final_new_y = mycab_final_new['Car_Cancellation']"
   ]
  },
  {
   "cell_type": "code",
   "execution_count": 387,
   "id": "f54c4bb0",
   "metadata": {},
   "outputs": [],
   "source": [
    "\n",
    "from sklearn.model_selection import train_test_split\n",
    "x_train, x_test, y_train, y_test = train_test_split(mycab_final_new_x,mycab_final_new_y,test_size =0.2,stratify=mycab_final_new_y,random_state=42)"
   ]
  },
  {
   "cell_type": "markdown",
   "id": "ac523176",
   "metadata": {},
   "source": [
    "## Random Forest"
   ]
  },
  {
   "cell_type": "code",
   "execution_count": 388,
   "id": "cc85d3b7",
   "metadata": {},
   "outputs": [],
   "source": [
    "from sklearn.ensemble import RandomForestClassifier \n",
    "from sklearn.model_selection import GridSearchCV"
   ]
  },
  {
   "cell_type": "code",
   "execution_count": 389,
   "id": "64fafcc5",
   "metadata": {},
   "outputs": [],
   "source": [
    "fit_rf = RandomForestClassifier()"
   ]
  },
  {
   "cell_type": "code",
   "execution_count": 390,
   "id": "8a2e9db7",
   "metadata": {},
   "outputs": [
    {
     "data": {
      "text/html": [
       "<style>#sk-container-id-7 {color: black;background-color: white;}#sk-container-id-7 pre{padding: 0;}#sk-container-id-7 div.sk-toggleable {background-color: white;}#sk-container-id-7 label.sk-toggleable__label {cursor: pointer;display: block;width: 100%;margin-bottom: 0;padding: 0.3em;box-sizing: border-box;text-align: center;}#sk-container-id-7 label.sk-toggleable__label-arrow:before {content: \"▸\";float: left;margin-right: 0.25em;color: #696969;}#sk-container-id-7 label.sk-toggleable__label-arrow:hover:before {color: black;}#sk-container-id-7 div.sk-estimator:hover label.sk-toggleable__label-arrow:before {color: black;}#sk-container-id-7 div.sk-toggleable__content {max-height: 0;max-width: 0;overflow: hidden;text-align: left;background-color: #f0f8ff;}#sk-container-id-7 div.sk-toggleable__content pre {margin: 0.2em;color: black;border-radius: 0.25em;background-color: #f0f8ff;}#sk-container-id-7 input.sk-toggleable__control:checked~div.sk-toggleable__content {max-height: 200px;max-width: 100%;overflow: auto;}#sk-container-id-7 input.sk-toggleable__control:checked~label.sk-toggleable__label-arrow:before {content: \"▾\";}#sk-container-id-7 div.sk-estimator input.sk-toggleable__control:checked~label.sk-toggleable__label {background-color: #d4ebff;}#sk-container-id-7 div.sk-label input.sk-toggleable__control:checked~label.sk-toggleable__label {background-color: #d4ebff;}#sk-container-id-7 input.sk-hidden--visually {border: 0;clip: rect(1px 1px 1px 1px);clip: rect(1px, 1px, 1px, 1px);height: 1px;margin: -1px;overflow: hidden;padding: 0;position: absolute;width: 1px;}#sk-container-id-7 div.sk-estimator {font-family: monospace;background-color: #f0f8ff;border: 1px dotted black;border-radius: 0.25em;box-sizing: border-box;margin-bottom: 0.5em;}#sk-container-id-7 div.sk-estimator:hover {background-color: #d4ebff;}#sk-container-id-7 div.sk-parallel-item::after {content: \"\";width: 100%;border-bottom: 1px solid gray;flex-grow: 1;}#sk-container-id-7 div.sk-label:hover label.sk-toggleable__label {background-color: #d4ebff;}#sk-container-id-7 div.sk-serial::before {content: \"\";position: absolute;border-left: 1px solid gray;box-sizing: border-box;top: 0;bottom: 0;left: 50%;z-index: 0;}#sk-container-id-7 div.sk-serial {display: flex;flex-direction: column;align-items: center;background-color: white;padding-right: 0.2em;padding-left: 0.2em;position: relative;}#sk-container-id-7 div.sk-item {position: relative;z-index: 1;}#sk-container-id-7 div.sk-parallel {display: flex;align-items: stretch;justify-content: center;background-color: white;position: relative;}#sk-container-id-7 div.sk-item::before, #sk-container-id-7 div.sk-parallel-item::before {content: \"\";position: absolute;border-left: 1px solid gray;box-sizing: border-box;top: 0;bottom: 0;left: 50%;z-index: -1;}#sk-container-id-7 div.sk-parallel-item {display: flex;flex-direction: column;z-index: 1;position: relative;background-color: white;}#sk-container-id-7 div.sk-parallel-item:first-child::after {align-self: flex-end;width: 50%;}#sk-container-id-7 div.sk-parallel-item:last-child::after {align-self: flex-start;width: 50%;}#sk-container-id-7 div.sk-parallel-item:only-child::after {width: 0;}#sk-container-id-7 div.sk-dashed-wrapped {border: 1px dashed gray;margin: 0 0.4em 0.5em 0.4em;box-sizing: border-box;padding-bottom: 0.4em;background-color: white;}#sk-container-id-7 div.sk-label label {font-family: monospace;font-weight: bold;display: inline-block;line-height: 1.2em;}#sk-container-id-7 div.sk-label-container {text-align: center;}#sk-container-id-7 div.sk-container {/* jupyter's `normalize.less` sets `[hidden] { display: none; }` but bootstrap.min.css set `[hidden] { display: none !important; }` so we also need the `!important` here to be able to override the default hidden behavior on the sphinx rendered scikit-learn.org. See: https://github.com/scikit-learn/scikit-learn/issues/21755 */display: inline-block !important;position: relative;}#sk-container-id-7 div.sk-text-repr-fallback {display: none;}</style><div id=\"sk-container-id-7\" class=\"sk-top-container\"><div class=\"sk-text-repr-fallback\"><pre>RandomForestClassifier()</pre><b>In a Jupyter environment, please rerun this cell to show the HTML representation or trust the notebook. <br />On GitHub, the HTML representation is unable to render, please try loading this page with nbviewer.org.</b></div><div class=\"sk-container\" hidden><div class=\"sk-item\"><div class=\"sk-estimator sk-toggleable\"><input class=\"sk-toggleable__control sk-hidden--visually\" id=\"sk-estimator-id-7\" type=\"checkbox\" checked><label for=\"sk-estimator-id-7\" class=\"sk-toggleable__label sk-toggleable__label-arrow\">RandomForestClassifier</label><div class=\"sk-toggleable__content\"><pre>RandomForestClassifier()</pre></div></div></div></div></div>"
      ],
      "text/plain": [
       "RandomForestClassifier()"
      ]
     },
     "execution_count": 390,
     "metadata": {},
     "output_type": "execute_result"
    }
   ],
   "source": [
    "fit_rf.fit(x_train,y_train)"
   ]
  },
  {
   "cell_type": "code",
   "execution_count": 391,
   "id": "20789ab4",
   "metadata": {},
   "outputs": [
    {
     "name": "stdout",
     "output_type": "stream",
     "text": [
      "0.9401315030568693\n",
      "0.9999423198938686\n"
     ]
    }
   ],
   "source": [
    "#accuracy\n",
    "y_pred_test = fit_rf.predict(x_test)\n",
    "y_pred_train = fit_rf.predict(x_train)\n",
    "#accuracy\n",
    "print(accuracy_score(y_test,y_pred_test))\n",
    "print(accuracy_score(y_train,y_pred_train))"
   ]
  },
  {
   "cell_type": "code",
   "execution_count": 392,
   "id": "795b9014",
   "metadata": {},
   "outputs": [
    {
     "name": "stdout",
     "output_type": "stream",
     "text": [
      "              precision    recall  f1-score   support\n",
      "\n",
      "           0       0.94      0.99      0.97      8043\n",
      "           1       0.75      0.26      0.38       626\n",
      "\n",
      "    accuracy                           0.94      8669\n",
      "   macro avg       0.85      0.62      0.67      8669\n",
      "weighted avg       0.93      0.94      0.93      8669\n",
      "\n"
     ]
    }
   ],
   "source": [
    "from sklearn.metrics import classification_report\n",
    "print(classification_report(y_test,y_pred_test))"
   ]
  },
  {
   "cell_type": "code",
   "execution_count": 393,
   "id": "e1d5de0d",
   "metadata": {},
   "outputs": [
    {
     "name": "stdout",
     "output_type": "stream",
     "text": [
      "              precision    recall  f1-score   support\n",
      "\n",
      "           0       1.00      1.00      1.00     32170\n",
      "           1       1.00      1.00      1.00      2504\n",
      "\n",
      "    accuracy                           1.00     34674\n",
      "   macro avg       1.00      1.00      1.00     34674\n",
      "weighted avg       1.00      1.00      1.00     34674\n",
      "\n"
     ]
    }
   ],
   "source": [
    "print(classification_report(y_train,y_pred_train))"
   ]
  },
  {
   "cell_type": "markdown",
   "id": "08e5383a",
   "metadata": {},
   "source": [
    "## Oversampling"
   ]
  },
  {
   "cell_type": "code",
   "execution_count": 394,
   "id": "f73711fe",
   "metadata": {},
   "outputs": [
    {
     "name": "stdout",
     "output_type": "stream",
     "text": [
      "Counter({0: 40213, 1: 3130})\n",
      "Counter({0: 40213, 1: 40213})\n"
     ]
    }
   ],
   "source": [
    "# Random oversampling\n",
    "from imblearn.over_sampling import RandomOverSampler , SMOTE\n",
    "from collections import Counter\n",
    "os = RandomOverSampler(random_state=42)\n",
    "mycab_final_new_x_os , mycab_final_new_y_os = os.fit_resample(mycab_final_new_x.to_numpy(),mycab_final_new_y.to_numpy())\n",
    "print(format(Counter(mycab_final_new_y)))\n",
    "print(format(Counter(mycab_final_new_y_os)))"
   ]
  },
  {
   "cell_type": "code",
   "execution_count": null,
   "id": "464fb6f6",
   "metadata": {},
   "outputs": [],
   "source": []
  },
  {
   "cell_type": "code",
   "execution_count": 314,
   "id": "d41e94f7",
   "metadata": {},
   "outputs": [],
   "source": [
    "x_train, x_test, y_train, y_test = train_test_split(mycab_final_new_x_os,mycab_final_new_y_os,test_size =0.2,stratify=mycab_final_new_y_os,random_state=42)"
   ]
  },
  {
   "cell_type": "code",
   "execution_count": null,
   "id": "84d69722",
   "metadata": {},
   "outputs": [],
   "source": []
  },
  {
   "cell_type": "code",
   "execution_count": 315,
   "id": "342b13a0",
   "metadata": {},
   "outputs": [
    {
     "data": {
      "text/html": [
       "<style>#sk-container-id-5 {color: black;background-color: white;}#sk-container-id-5 pre{padding: 0;}#sk-container-id-5 div.sk-toggleable {background-color: white;}#sk-container-id-5 label.sk-toggleable__label {cursor: pointer;display: block;width: 100%;margin-bottom: 0;padding: 0.3em;box-sizing: border-box;text-align: center;}#sk-container-id-5 label.sk-toggleable__label-arrow:before {content: \"▸\";float: left;margin-right: 0.25em;color: #696969;}#sk-container-id-5 label.sk-toggleable__label-arrow:hover:before {color: black;}#sk-container-id-5 div.sk-estimator:hover label.sk-toggleable__label-arrow:before {color: black;}#sk-container-id-5 div.sk-toggleable__content {max-height: 0;max-width: 0;overflow: hidden;text-align: left;background-color: #f0f8ff;}#sk-container-id-5 div.sk-toggleable__content pre {margin: 0.2em;color: black;border-radius: 0.25em;background-color: #f0f8ff;}#sk-container-id-5 input.sk-toggleable__control:checked~div.sk-toggleable__content {max-height: 200px;max-width: 100%;overflow: auto;}#sk-container-id-5 input.sk-toggleable__control:checked~label.sk-toggleable__label-arrow:before {content: \"▾\";}#sk-container-id-5 div.sk-estimator input.sk-toggleable__control:checked~label.sk-toggleable__label {background-color: #d4ebff;}#sk-container-id-5 div.sk-label input.sk-toggleable__control:checked~label.sk-toggleable__label {background-color: #d4ebff;}#sk-container-id-5 input.sk-hidden--visually {border: 0;clip: rect(1px 1px 1px 1px);clip: rect(1px, 1px, 1px, 1px);height: 1px;margin: -1px;overflow: hidden;padding: 0;position: absolute;width: 1px;}#sk-container-id-5 div.sk-estimator {font-family: monospace;background-color: #f0f8ff;border: 1px dotted black;border-radius: 0.25em;box-sizing: border-box;margin-bottom: 0.5em;}#sk-container-id-5 div.sk-estimator:hover {background-color: #d4ebff;}#sk-container-id-5 div.sk-parallel-item::after {content: \"\";width: 100%;border-bottom: 1px solid gray;flex-grow: 1;}#sk-container-id-5 div.sk-label:hover label.sk-toggleable__label {background-color: #d4ebff;}#sk-container-id-5 div.sk-serial::before {content: \"\";position: absolute;border-left: 1px solid gray;box-sizing: border-box;top: 0;bottom: 0;left: 50%;z-index: 0;}#sk-container-id-5 div.sk-serial {display: flex;flex-direction: column;align-items: center;background-color: white;padding-right: 0.2em;padding-left: 0.2em;position: relative;}#sk-container-id-5 div.sk-item {position: relative;z-index: 1;}#sk-container-id-5 div.sk-parallel {display: flex;align-items: stretch;justify-content: center;background-color: white;position: relative;}#sk-container-id-5 div.sk-item::before, #sk-container-id-5 div.sk-parallel-item::before {content: \"\";position: absolute;border-left: 1px solid gray;box-sizing: border-box;top: 0;bottom: 0;left: 50%;z-index: -1;}#sk-container-id-5 div.sk-parallel-item {display: flex;flex-direction: column;z-index: 1;position: relative;background-color: white;}#sk-container-id-5 div.sk-parallel-item:first-child::after {align-self: flex-end;width: 50%;}#sk-container-id-5 div.sk-parallel-item:last-child::after {align-self: flex-start;width: 50%;}#sk-container-id-5 div.sk-parallel-item:only-child::after {width: 0;}#sk-container-id-5 div.sk-dashed-wrapped {border: 1px dashed gray;margin: 0 0.4em 0.5em 0.4em;box-sizing: border-box;padding-bottom: 0.4em;background-color: white;}#sk-container-id-5 div.sk-label label {font-family: monospace;font-weight: bold;display: inline-block;line-height: 1.2em;}#sk-container-id-5 div.sk-label-container {text-align: center;}#sk-container-id-5 div.sk-container {/* jupyter's `normalize.less` sets `[hidden] { display: none; }` but bootstrap.min.css set `[hidden] { display: none !important; }` so we also need the `!important` here to be able to override the default hidden behavior on the sphinx rendered scikit-learn.org. See: https://github.com/scikit-learn/scikit-learn/issues/21755 */display: inline-block !important;position: relative;}#sk-container-id-5 div.sk-text-repr-fallback {display: none;}</style><div id=\"sk-container-id-5\" class=\"sk-top-container\"><div class=\"sk-text-repr-fallback\"><pre>RandomForestClassifier()</pre><b>In a Jupyter environment, please rerun this cell to show the HTML representation or trust the notebook. <br />On GitHub, the HTML representation is unable to render, please try loading this page with nbviewer.org.</b></div><div class=\"sk-container\" hidden><div class=\"sk-item\"><div class=\"sk-estimator sk-toggleable\"><input class=\"sk-toggleable__control sk-hidden--visually\" id=\"sk-estimator-id-5\" type=\"checkbox\" checked><label for=\"sk-estimator-id-5\" class=\"sk-toggleable__label sk-toggleable__label-arrow\">RandomForestClassifier</label><div class=\"sk-toggleable__content\"><pre>RandomForestClassifier()</pre></div></div></div></div></div>"
      ],
      "text/plain": [
       "RandomForestClassifier()"
      ]
     },
     "execution_count": 315,
     "metadata": {},
     "output_type": "execute_result"
    }
   ],
   "source": [
    "fit_rf.fit(x_train,y_train)"
   ]
  },
  {
   "cell_type": "code",
   "execution_count": 316,
   "id": "bc64f61b",
   "metadata": {},
   "outputs": [
    {
     "name": "stdout",
     "output_type": "stream",
     "text": [
      "0.9900534626383191\n",
      "0.9999533727074914\n"
     ]
    }
   ],
   "source": [
    "#accuracy\n",
    "y_pred_test = fit_rf.predict(x_test)\n",
    "y_pred_train = fit_rf.predict(x_train)\n",
    "#accuracy\n",
    "print(accuracy_score(y_test,y_pred_test))\n",
    "print(accuracy_score(y_train,y_pred_train))"
   ]
  },
  {
   "cell_type": "code",
   "execution_count": 317,
   "id": "084cdf7a",
   "metadata": {},
   "outputs": [
    {
     "name": "stdout",
     "output_type": "stream",
     "text": [
      "              precision    recall  f1-score   support\n",
      "\n",
      "           0       1.00      0.98      0.99      8043\n",
      "           1       0.98      1.00      0.99      8043\n",
      "\n",
      "    accuracy                           0.99     16086\n",
      "   macro avg       0.99      0.99      0.99     16086\n",
      "weighted avg       0.99      0.99      0.99     16086\n",
      "\n"
     ]
    }
   ],
   "source": [
    "print(classification_report(y_test,y_pred_test))"
   ]
  },
  {
   "cell_type": "code",
   "execution_count": 318,
   "id": "1e738a1c",
   "metadata": {},
   "outputs": [
    {
     "name": "stdout",
     "output_type": "stream",
     "text": [
      "              precision    recall  f1-score   support\n",
      "\n",
      "           0       1.00      1.00      1.00     32170\n",
      "           1       1.00      1.00      1.00     32170\n",
      "\n",
      "    accuracy                           1.00     64340\n",
      "   macro avg       1.00      1.00      1.00     64340\n",
      "weighted avg       1.00      1.00      1.00     64340\n",
      "\n"
     ]
    }
   ],
   "source": [
    "print(classification_report(y_train,y_pred_train))"
   ]
  },
  {
   "cell_type": "markdown",
   "id": "7c0b1f26",
   "metadata": {},
   "source": [
    "## SMOTE"
   ]
  },
  {
   "cell_type": "code",
   "execution_count": 319,
   "id": "af3d5de4",
   "metadata": {},
   "outputs": [
    {
     "name": "stdout",
     "output_type": "stream",
     "text": [
      "Counter({0: 40213, 1: 3130})\n",
      "Counter({0: 40213, 1: 32170})\n"
     ]
    }
   ],
   "source": [
    "# Random oversampling\n",
    "from imblearn.over_sampling import SMOTE\n",
    "from collections import Counter\n",
    "os = SMOTE(random_state=42,sampling_strategy=0.80)\n",
    "mycab_final_new_x_os , mycab_final_new_y_os = os.fit_resample(mycab_final_new_x.to_numpy(),mycab_final_new_y.to_numpy())\n",
    "print(format(Counter(mycab_final_new_y)))\n",
    "print(format(Counter(mycab_final_new_y_os)))"
   ]
  },
  {
   "cell_type": "code",
   "execution_count": 320,
   "id": "e614c052",
   "metadata": {},
   "outputs": [],
   "source": [
    "x_train, x_test, y_train, y_test = train_test_split(mycab_final_new_x_os,mycab_final_new_y_os,test_size =0.2,stratify=mycab_final_new_y_os,random_state=42)"
   ]
  },
  {
   "cell_type": "code",
   "execution_count": 321,
   "id": "bd8bd2cf",
   "metadata": {},
   "outputs": [
    {
     "data": {
      "text/html": [
       "<style>#sk-container-id-6 {color: black;background-color: white;}#sk-container-id-6 pre{padding: 0;}#sk-container-id-6 div.sk-toggleable {background-color: white;}#sk-container-id-6 label.sk-toggleable__label {cursor: pointer;display: block;width: 100%;margin-bottom: 0;padding: 0.3em;box-sizing: border-box;text-align: center;}#sk-container-id-6 label.sk-toggleable__label-arrow:before {content: \"▸\";float: left;margin-right: 0.25em;color: #696969;}#sk-container-id-6 label.sk-toggleable__label-arrow:hover:before {color: black;}#sk-container-id-6 div.sk-estimator:hover label.sk-toggleable__label-arrow:before {color: black;}#sk-container-id-6 div.sk-toggleable__content {max-height: 0;max-width: 0;overflow: hidden;text-align: left;background-color: #f0f8ff;}#sk-container-id-6 div.sk-toggleable__content pre {margin: 0.2em;color: black;border-radius: 0.25em;background-color: #f0f8ff;}#sk-container-id-6 input.sk-toggleable__control:checked~div.sk-toggleable__content {max-height: 200px;max-width: 100%;overflow: auto;}#sk-container-id-6 input.sk-toggleable__control:checked~label.sk-toggleable__label-arrow:before {content: \"▾\";}#sk-container-id-6 div.sk-estimator input.sk-toggleable__control:checked~label.sk-toggleable__label {background-color: #d4ebff;}#sk-container-id-6 div.sk-label input.sk-toggleable__control:checked~label.sk-toggleable__label {background-color: #d4ebff;}#sk-container-id-6 input.sk-hidden--visually {border: 0;clip: rect(1px 1px 1px 1px);clip: rect(1px, 1px, 1px, 1px);height: 1px;margin: -1px;overflow: hidden;padding: 0;position: absolute;width: 1px;}#sk-container-id-6 div.sk-estimator {font-family: monospace;background-color: #f0f8ff;border: 1px dotted black;border-radius: 0.25em;box-sizing: border-box;margin-bottom: 0.5em;}#sk-container-id-6 div.sk-estimator:hover {background-color: #d4ebff;}#sk-container-id-6 div.sk-parallel-item::after {content: \"\";width: 100%;border-bottom: 1px solid gray;flex-grow: 1;}#sk-container-id-6 div.sk-label:hover label.sk-toggleable__label {background-color: #d4ebff;}#sk-container-id-6 div.sk-serial::before {content: \"\";position: absolute;border-left: 1px solid gray;box-sizing: border-box;top: 0;bottom: 0;left: 50%;z-index: 0;}#sk-container-id-6 div.sk-serial {display: flex;flex-direction: column;align-items: center;background-color: white;padding-right: 0.2em;padding-left: 0.2em;position: relative;}#sk-container-id-6 div.sk-item {position: relative;z-index: 1;}#sk-container-id-6 div.sk-parallel {display: flex;align-items: stretch;justify-content: center;background-color: white;position: relative;}#sk-container-id-6 div.sk-item::before, #sk-container-id-6 div.sk-parallel-item::before {content: \"\";position: absolute;border-left: 1px solid gray;box-sizing: border-box;top: 0;bottom: 0;left: 50%;z-index: -1;}#sk-container-id-6 div.sk-parallel-item {display: flex;flex-direction: column;z-index: 1;position: relative;background-color: white;}#sk-container-id-6 div.sk-parallel-item:first-child::after {align-self: flex-end;width: 50%;}#sk-container-id-6 div.sk-parallel-item:last-child::after {align-self: flex-start;width: 50%;}#sk-container-id-6 div.sk-parallel-item:only-child::after {width: 0;}#sk-container-id-6 div.sk-dashed-wrapped {border: 1px dashed gray;margin: 0 0.4em 0.5em 0.4em;box-sizing: border-box;padding-bottom: 0.4em;background-color: white;}#sk-container-id-6 div.sk-label label {font-family: monospace;font-weight: bold;display: inline-block;line-height: 1.2em;}#sk-container-id-6 div.sk-label-container {text-align: center;}#sk-container-id-6 div.sk-container {/* jupyter's `normalize.less` sets `[hidden] { display: none; }` but bootstrap.min.css set `[hidden] { display: none !important; }` so we also need the `!important` here to be able to override the default hidden behavior on the sphinx rendered scikit-learn.org. See: https://github.com/scikit-learn/scikit-learn/issues/21755 */display: inline-block !important;position: relative;}#sk-container-id-6 div.sk-text-repr-fallback {display: none;}</style><div id=\"sk-container-id-6\" class=\"sk-top-container\"><div class=\"sk-text-repr-fallback\"><pre>RandomForestClassifier()</pre><b>In a Jupyter environment, please rerun this cell to show the HTML representation or trust the notebook. <br />On GitHub, the HTML representation is unable to render, please try loading this page with nbviewer.org.</b></div><div class=\"sk-container\" hidden><div class=\"sk-item\"><div class=\"sk-estimator sk-toggleable\"><input class=\"sk-toggleable__control sk-hidden--visually\" id=\"sk-estimator-id-6\" type=\"checkbox\" checked><label for=\"sk-estimator-id-6\" class=\"sk-toggleable__label sk-toggleable__label-arrow\">RandomForestClassifier</label><div class=\"sk-toggleable__content\"><pre>RandomForestClassifier()</pre></div></div></div></div></div>"
      ],
      "text/plain": [
       "RandomForestClassifier()"
      ]
     },
     "execution_count": 321,
     "metadata": {},
     "output_type": "execute_result"
    }
   ],
   "source": [
    "fit_rf.fit(x_train,y_train)"
   ]
  },
  {
   "cell_type": "code",
   "execution_count": 322,
   "id": "5d8c44d6",
   "metadata": {},
   "outputs": [
    {
     "name": "stdout",
     "output_type": "stream",
     "text": [
      "0.964219106168405\n",
      "0.9999827306324043\n"
     ]
    }
   ],
   "source": [
    "#accuracy\n",
    "y_pred_test = fit_rf.predict(x_test)\n",
    "y_pred_train = fit_rf.predict(x_train)\n",
    "#accuracy\n",
    "print(accuracy_score(y_test,y_pred_test))\n",
    "print(accuracy_score(y_train,y_pred_train))"
   ]
  },
  {
   "cell_type": "code",
   "execution_count": 323,
   "id": "8ae47fc7",
   "metadata": {},
   "outputs": [
    {
     "name": "stdout",
     "output_type": "stream",
     "text": [
      "              precision    recall  f1-score   support\n",
      "\n",
      "           0       0.95      0.99      0.97      8043\n",
      "           1       0.99      0.93      0.96      6434\n",
      "\n",
      "    accuracy                           0.96     14477\n",
      "   macro avg       0.97      0.96      0.96     14477\n",
      "weighted avg       0.97      0.96      0.96     14477\n",
      "\n"
     ]
    }
   ],
   "source": [
    "print(classification_report(y_test,y_pred_test))"
   ]
  },
  {
   "cell_type": "code",
   "execution_count": 324,
   "id": "a99d426b",
   "metadata": {},
   "outputs": [
    {
     "name": "stdout",
     "output_type": "stream",
     "text": [
      "              precision    recall  f1-score   support\n",
      "\n",
      "           0       1.00      1.00      1.00     32170\n",
      "           1       1.00      1.00      1.00     25736\n",
      "\n",
      "    accuracy                           1.00     57906\n",
      "   macro avg       1.00      1.00      1.00     57906\n",
      "weighted avg       1.00      1.00      1.00     57906\n",
      "\n"
     ]
    }
   ],
   "source": [
    "print(classification_report(y_train,y_pred_train))"
   ]
  },
  {
   "cell_type": "code",
   "execution_count": 325,
   "id": "908afc85",
   "metadata": {},
   "outputs": [
    {
     "data": {
      "text/plain": [
       "array([0.01027516, 0.00412482, 0.0318122 , 0.03295794, 0.17029923,\n",
       "       0.01675125, 0.07967752, 0.03013971, 0.02568457, 0.07455421,\n",
       "       0.06775515, 0.03092348, 0.04363134, 0.02960986, 0.02439133,\n",
       "       0.00804238, 0.04238931, 0.01960822, 0.02832349, 0.00886634,\n",
       "       0.01707571, 0.02061417, 0.01810406, 0.01219124, 0.01218601,\n",
       "       0.01163043, 0.01314461, 0.01284207, 0.00868316, 0.00968243,\n",
       "       0.01094076, 0.03650307, 0.0365848 ])"
      ]
     },
     "execution_count": 325,
     "metadata": {},
     "output_type": "execute_result"
    }
   ],
   "source": [
    "fit_rf.feature_importances_"
   ]
  },
  {
   "cell_type": "code",
   "execution_count": 326,
   "id": "eadf3f5f",
   "metadata": {},
   "outputs": [
    {
     "name": "stdout",
     "output_type": "stream",
     "text": [
      "{'travel_type_id': 0.004124817985401591, 'booking_dt_time_of_day_Mid_Night': 0.008042382421178383, 'from_date_day_of_week_Thursday': 0.00868315547489903, 'booking_created_day_of_week_Monday': 0.008866343137723817, 'from_date_day_of_week_Tuesday': 0.009682426933541604, 'vehicle_model_id': 0.010275161023473263, 'from_date_day_of_week_Wednesday': 0.010940759455868206, 'from_date_day_of_week_Monday': 0.01163042620894867, 'booking_created_day_of_week_Wednesday': 0.01218600845488452, 'booking_created_day_of_week_Tuesday': 0.01219123890603152, 'from_date_day_of_week_Sunday': 0.01284206628308148, 'from_date_day_of_week_Saturday': 0.013144606758073695, 'mobile_site_booking': 0.01675124651728556, 'booking_created_day_of_week_Saturday': 0.017075706863623717, 'booking_created_day_of_week_Thursday': 0.018104058366822995, 'booking_dt_time_of_day_Night': 0.019608216717355922, 'booking_created_day_of_week_Sunday': 0.0206141657798113, 'from_dt_time_of_day_Noon': 0.024391331424009663, 'day_of_month_from_dt': 0.02568456926924355, 'booking_dt_time_of_day_Noon': 0.028323494691178626, 'from_dt_time_of_day_Night': 0.029609856481054776, 'day_of_month_booking_dt': 0.03013971247355142, 'from_dt_time_of_day_Mid_Night': 0.030923477168736283, 'from_area_id': 0.031812197049957344, 'to_area_id': 0.03295794026858734, 'type_of_day_booking_dt_Weekend': 0.03650307119005547, 'type_of_day_from_dt_Weekend': 0.036584799230476875, 'booking_dt_time_of_day_Morning': 0.04238931381396196, 'from_dt_time_of_day_Morning': 0.04363133675300366, 'month_number_from_dt': 0.06775515288815594, 'month_number_booking_dt': 0.07455420764601532, 'difference_bookingdt_startdt_mins': 0.07967751979220827, 'online_booking': 0.17029923257179824}\n"
     ]
    }
   ],
   "source": [
    "imp_features=dict(zip(mycab_final_new_x.columns, fit_rf.feature_importances_))\n",
    "imp_features = sorted(imp_features.items(), key=lambda x:x[1],reverse=False)\n",
    "imp_features=dict(imp_features)\n",
    "print(imp_features)\n"
   ]
  },
  {
   "cell_type": "code",
   "execution_count": 327,
   "id": "0ef04942",
   "metadata": {},
   "outputs": [
    {
     "data": {
      "text/plain": [
       "[0.004124817985401591,\n",
       " 0.008042382421178383,\n",
       " 0.00868315547489903,\n",
       " 0.008866343137723817,\n",
       " 0.009682426933541604,\n",
       " 0.010275161023473263,\n",
       " 0.010940759455868206,\n",
       " 0.01163042620894867,\n",
       " 0.01218600845488452,\n",
       " 0.01219123890603152,\n",
       " 0.01284206628308148,\n",
       " 0.013144606758073695,\n",
       " 0.01675124651728556,\n",
       " 0.017075706863623717,\n",
       " 0.018104058366822995,\n",
       " 0.019608216717355922,\n",
       " 0.0206141657798113,\n",
       " 0.024391331424009663,\n",
       " 0.02568456926924355,\n",
       " 0.028323494691178626,\n",
       " 0.029609856481054776,\n",
       " 0.03013971247355142,\n",
       " 0.030923477168736283,\n",
       " 0.031812197049957344,\n",
       " 0.03295794026858734,\n",
       " 0.03650307119005547,\n",
       " 0.036584799230476875,\n",
       " 0.04238931381396196,\n",
       " 0.04363133675300366,\n",
       " 0.06775515288815594,\n",
       " 0.07455420764601532,\n",
       " 0.07967751979220827,\n",
       " 0.17029923257179824]"
      ]
     },
     "execution_count": 327,
     "metadata": {},
     "output_type": "execute_result"
    }
   ],
   "source": [
    "list(imp_features.values())"
   ]
  },
  {
   "cell_type": "code",
   "execution_count": 328,
   "id": "8f215dd6",
   "metadata": {},
   "outputs": [
    {
     "data": {
      "text/plain": [
       "<BarContainer object of 10 artists>"
      ]
     },
     "execution_count": 328,
     "metadata": {},
     "output_type": "execute_result"
    },
    {
     "data": {
      "image/png": "[encoded data removed]",
      "text/plain": [
       "<Figure size 432x288 with 1 Axes>"
      ]
     },
     "metadata": {
      "needs_background": "light"
     },
     "output_type": "display_data"
    }
   ],
   "source": [
    "\n",
    "plt.barh(list(imp_features.keys())[0:10], list(imp_features.values())[0:10])"
   ]
  },
  {
   "cell_type": "code",
   "execution_count": null,
   "id": "9048a460",
   "metadata": {},
   "outputs": [],
   "source": []
  }
 ],
 "metadata": {
  "kernelspec": {
   "display_name": "Python 3 (ipykernel)",
   "language": "python",
   "name": "python3"
  },
  "language_info": {
   "codemirror_mode": {
    "name": "ipython",
    "version": 3
   },
   "file_extension": ".py",
   "mimetype": "text/x-python",
   "name": "python",
   "nbconvert_exporter": "python",
   "pygments_lexer": "ipython3",
   "version": "3.9.7"
  }
 },
 "nbformat": 4,
 "nbformat_minor": 5
}
